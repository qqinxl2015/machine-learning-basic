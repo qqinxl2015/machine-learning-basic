{
 "cells": [
  {
   "cell_type": "markdown",
   "metadata": {},
   "source": [
    "<h1>Why linear regression and logistic regression not Enough </h1>"
   ]
  },
  {
   "cell_type": "markdown",
   "metadata": {},
   "source": [
    "Logistic の場合、\n",
    "\n",
    "<img src=\"https://raw.githubusercontent.com/fengdu78/Coursera-ML-AndrewNg-Notes/master/images/5316b24cd40908fb5cb1db5a055e4de5.png\">\n",
    "\n",
    "\n",
    "\n",
    "画像の場合、\n",
    "\n",
    "<img src=\"https://raw.githubusercontent.com/fengdu78/Coursera-ML-AndrewNg-Notes/master/images/3ac5e06e852ad3deef4cba782ebe425b.jpg\">\n",
    "\n",
    "５０×５０ pixelとしても、2500特徴（if RGB, 7500）であり、組み合わせて${{2500}^{2}}/2$（>300万）\n",
    "\n",
    "⇒Featuresが多すぎ！"
   ]
  },
  {
   "cell_type": "markdown",
   "metadata": {},
   "source": [
    "<h1>神経細胞 (Neuron) & ニューラルネットワーク (Neural Network)</h1>\n",
    "\n",
    "\n",
    "<img src=\"https://udemy.benesse.co.jp/wp-content/uploads/7364a57e024fe580ea9717de1cc578ec.png\">\n",
    "\n",
    "\n",
    "↓↓↓↓↓↓↓↓↓↓↓↓↓↓↓↓↓↓↓↓↓↓↓↓↓↓↓↓↓↓↓↓↓↓↓↓↓↓↓↓↓↓↓↓↓↓↓↓↓↓↓↓↓↓↓↓↓↓↓↓↓↓↓↓↓↓↓↓↓↓↓\n",
    "\n",
    "<img src=\"https://raw.githubusercontent.com/fengdu78/Coursera-ML-AndrewNg-Notes/master/images/c2233cd74605a9f8fe69fd59547d3853.jpg\">\n",
    "\n",
    "\n",
    "↓↓↓↓↓↓↓↓↓↓↓↓↓↓↓↓↓↓↓↓↓↓↓↓↓↓↓↓↓↓↓↓↓↓↓↓↓↓↓↓↓↓↓↓↓↓↓↓↓↓↓↓↓↓↓↓↓↓↓↓↓↓↓↓↓↓↓↓↓↓↓\n",
    "\n",
    "<img src=\"https://raw.githubusercontent.com/fengdu78/Coursera-ML-AndrewNg-Notes/master/images/8293711e1d23414d0a03f6878f5a2d91.jpg\">\n",
    "\n",
    "hidden layer：$a_i ^{(j)}$\n",
    "\n",
    "$a_{1}^{(2)}=g(\\Theta {10}^{(1)}{{x}{0}}+\\Theta {11}^{(1)}{{x}{1}}+\\Theta {12}^{(1)}{{x}{2}}+\\Theta {13}^{(1)}{{x}{3}})$ \n",
    "\n",
    "$a_{2}^{(2)}=g(\\Theta {20}^{(1)}{{x}{0}}+\\Theta {21}^{(1)}{{x}{1}}+\\Theta {22}^{(1)}{{x}{2}}+\\Theta {23}^{(1)}{{x}{3}})$ \n",
    "\n",
    "$a_{3}^{(2)}=g(\\Theta {30}^{(1)}{{x}{0}}+\\Theta {31}^{(1)}{{x}{1}}+\\Theta {32}^{(1)}{{x}{2}}+\\Theta {33}^{(1)}{{x}{3}})$ \n",
    "\n",
    "拡張：複数Ｌａｙｅｒの場合、\n",
    "\n",
    "$ a_i ^{(j+1)} = g(\\Theta_{i, 0} ^{(j)} a_0 ^{(j)} + \\Theta_{i, 1} ^{(j)} a_1 ^{(j)} + ... + \\Theta_{i, n} ^{(j)} a_n ^{(j)}$\n",
    "\n",
    "\n",
    "${{h}_{\\Theta }}(x)=g(\\Theta {10}^{(2)}a{0}^{(2)}+\\Theta {11}^{(2)}a{1}^{(2)}+\\Theta {12}^{(2)}a{2}^{(2)}+\\Theta {13}^{(2)}a{3}^{(2)})$\n",
    "\n",
    "<img src=\"https://raw.githubusercontent.com/fengdu78/Coursera-ML-AndrewNg-Notes/master/images/2e17f58ce9a79525089a1c2e0b4c0ccc.png\">\n",
    "\n",
    "<img src=\"https://raw.githubusercontent.com/fengdu78/Coursera-ML-AndrewNg-Notes/master/images/43f1cb8a2a7e9a18f928720adc1fac22.png\">\n",
    "\n",
    "\n"
   ]
  },
  {
   "cell_type": "markdown",
   "metadata": {},
   "source": []
  },
  {
   "cell_type": "markdown",
   "metadata": {},
   "source": [
    "<\n",
    "\n",
    "例：AND  $h_\\Theta(x)=g\\left( -30+20x_1+20x_2 \\right)$\n",
    "\n",
    "<img src=\"https://raw.githubusercontent.com/fengdu78/Coursera-ML-AndrewNg-Notes/master/images/809187c1815e1ec67184699076de51f2.png\" style=\"float:left\">\n",
    "\n",
    "<img src=\"https://raw.githubusercontent.com/fengdu78/Coursera-ML-AndrewNg-Notes/master/images/f75115da9090701516aa1ff0295436dd.png\">\n",
    "\n",
    "<hr style=\"clear:both\"/>\n",
    "\n",
    "例：OR  $h_\\Theta(x)=g\\left( -10+20x_1+20x_2 \\right)$\n",
    "\n",
    "<img src=\"https://raw.githubusercontent.com/fengdu78/Coursera-ML-AndrewNg-Notes/master/images/aa27671f7a3a16545a28f356a2fb98c0.png\" style=\"float:left\">\n",
    "\n",
    "<hr style=\"clear:both\"/>\n",
    "\n",
    "例：NOT($x_1$)  $h_\\Theta(x)=g\\left( 10 - 20x_1 \\right)$\n",
    "\n",
    "<img src=\"https://raw.githubusercontent.com/fengdu78/Coursera-ML-AndrewNg-Notes/master/images/1fd3017dfa554642a5e1805d6d2b1fa6.png\" style=\"float:left\">\n",
    "\n",
    "<hr style=\"clear:both\"/>\n",
    "\n",
    "例：NOT($x_1$) AND NOT($x_2$)   $h_\\Theta(x)=g\\left( 10+-20x_1+-20x_2 \\right)$\n",
    "\n",
    "<img src=\"https://raw.githubusercontent.com/fengdu78/Coursera-ML-AndrewNg-Notes/master/images/4c44e69a12b48efdff2fe92a0a698768.png\" style=\"float:left\">\n",
    "\n",
    "<hr style=\"clear:both\"/>\n",
    "\n",
    "\n"
   ]
  },
  {
   "cell_type": "markdown",
   "metadata": {},
   "source": [
    "<b>$\\text{XNOR}$</b>\n",
    "\n",
    "$a_1 ^{(2)}$ :AND\n",
    "\n",
    "$a_2 ^{(2)}$ :NOT($x_1$) AND NOT($x_2$)\n",
    "\n",
    "最終：$h_\\Theta (x) = a_1 ^{(3)}$　をORで計算\n",
    "\n",
    "<img src=\"https://d3c33hcgiwev3.cloudfront.net/imageAssetProxy.v1/rag_zbGqEeaSmhJaoV5QvA_52c04a987dcb692da8979a2198f3d8d7_Screenshot-2016-11-23-10.28.41.png?expiry=1555459200000&hmac=UiS5SMi6uxkhV4CrzXGaXzC0vlRFTOHwi8T9B_W6yRw\">"
   ]
  },
  {
   "cell_type": "code",
   "execution_count": null,
   "metadata": {},
   "outputs": [],
   "source": []
  },
  {
   "cell_type": "markdown",
   "metadata": {},
   "source": [
    "<h1>Multi-class classification with neural network</h1>\n",
    "\n",
    "ロジスティック回帰の場合、\n",
    "\n",
    "one vs all　　⇒ one vs restで解決\n",
    "\n",
    "\n",
    "ニューラルネットワークでも同様。\n",
    "\n",
    "<img src=\"https://d3c33hcgiwev3.cloudfront.net/imageAssetProxy.v1/9Aeo6bGtEea4MxKdJPaTxA_4febc7ec9ac9dd0e4309bd1778171d36_Screenshot-2016-11-23-10.49.05.png?expiry=1555459200000&hmac=DvZgtMC9BC_zpAk2NGiSW2r_PV8RsXgnl_MGl__9jEM\">"
   ]
  },
  {
   "cell_type": "code",
   "execution_count": null,
   "metadata": {},
   "outputs": [],
   "source": []
  },
  {
   "cell_type": "markdown",
   "metadata": {},
   "source": [
    "<h1>Cost Function</h1>\n",
    "\n",
    "ロジスティック回帰の場合、\n",
    "\n",
    "\\begin{gather*}  J\\left(\\theta \\right)=-\\frac{1}{m}\\left[\\sum_\\limits{i=1}^{m}{y}^{(i)}\\log{h_\\theta({x}^{(i)})}+\\left(1-{y}^{(i)}\\right)log\\left(1-h_\\theta\\left({x}^{(i)}\\right)\\right)\\right]+\\frac{\\lambda}{2m}\\sum_\\limits{j=1}^{m}{\\theta_j}^{2} \\end{gather*}\n",
    "\n",
    "\n",
    "Multi-class classification with neural networkの場合、\n",
    "\n",
    "\n",
    "\\begin{gather*} $J(\\Theta) = -\\frac{1}{m} \\left[ \\sum\\limits_{i=1}^{m} \\sum\\limits_{k=1}^{k} {y_k}^{(i)} \\log {(h_\\Theta(x^{(i)}))}_k + \\left( 1 - y_k^{(i)} \\right) \\log \\left( 1- {\\left( h_\\Theta \\left( x^{(i)}_k \\right) \\right)} \\right) \\right] + \\frac{\\lambda}{2m} \\sum\\limits_{l=1}^{L-1} \\sum\\limits_{i=1}^{s_l} \\sum\\limits_{j=1}^{s_{l+1}} \\left( \\Theta_{ji}^{(l)} \\right)^2\\end{gather*}\n",
    "\n",
    "K ：Multi-class　件数\n",
    "\n",
    "\n",
    "<h2>Forward PropagationとBack Propagation(プロパゲーション）</h2>\n",
    "\n",
    "<img src=\"https://raw.githubusercontent.com/fengdu78/Coursera-ML-AndrewNg-Notes/master/images/2ea8f5ce4c3df931ee49cf8d987ef25d.png\">\n",
    "\n",
    "<b>Back Propagation</b>\n",
    "\n",
    "$\\delta_j^{(l)}$ ⇒ error of node $j$ in layer $l$\n",
    "\n",
    "$\\delta^{(4)}=a^{(4)}-y$\n",
    "\n",
    "$\\delta^{(3)}=\\left({\\Theta^{(3)}}\\right)^{T}\\delta^{(4)}\\ast g'\\left(z^{(3)}\\right)$\n",
    "* $g'(z^{(3)})=a^{(3)}\\ast(1-a^{(3)})$\n",
    "\n",
    "\n",
    "$\\delta^{(2)}=\\left(\\Theta^{(2)})^{T}\\delta^{(3)}\\ast g'(z^{(2)})\\right)$\n",
    "* $g'(z^{(2)})=a^{(2)}\\ast(1-a^{(2)})$\n",
    "\n",
    "\n",
    "\n",
    "$\\frac{\\partial}{\\partial\\Theta_{ij}^{(l)}}J(\\Theta)=a_{j}^{(l)} \\delta_{i}^{l+1}$\n",
    "\n",
    "\n",
    "<hr/>\n",
    "\n",
    "$g(x) = \\frac{1}{1+e^{-x}}$\n",
    "\n",
    "\\begin{align}\n",
    "\\frac{d}{dx}g(x)&=-\\frac{1}{(1+e^{-x})^2}\\frac{d}{dx}(1+e^{-x}) \\\\\n",
    "&=\\frac{1}{1+e^{-x}}\\frac{e^{-x}}{1+e^{-x}} \\\\\n",
    "&=\\frac{1}{1+e^{-x}}\\frac{1+e^{-x}-1}{1+e^{-x}} \\\\\n",
    "&=\\frac{1}{1+e^{-x}}\\bigl(1-\\frac{1}{1+e^{-x}}\\bigr) \\\\\n",
    "&=g(x)(1-g(x))\n",
    "\\end{align}\n",
    "\n",
    "\n",
    "\n",
    "<hr/>\n",
    "\n",
    "<img src=\"https://d3c33hcgiwev3.cloudfront.net/imageAssetProxy.v1/Ul6i5teoEea1UArqXEX_3g_a36fb24a11c744d7552f0fecf2fdd752_Screenshot-2017-01-10-17.13.27.png?expiry=1555459200000&hmac=I6pTOJNnDDUWWx0k9eQupCeSw9_FY_1MrDeUEBglNt0\">"
   ]
  },
  {
   "cell_type": "code",
   "execution_count": null,
   "metadata": {},
   "outputs": [],
   "source": []
  },
  {
   "cell_type": "markdown",
   "metadata": {},
   "source": []
  },
  {
   "cell_type": "code",
   "execution_count": 3,
   "metadata": {},
   "outputs": [
    {
     "name": "stdout",
     "output_type": "stream",
     "text": [
      "1.15.4\n",
      "2.1.1\n",
      "0.23.4\n"
     ]
    }
   ],
   "source": [
    "import numpy as np\n",
    "import matplotlib \n",
    "import pandas as pd\n",
    "import matplotlib.pyplot as plt\n",
    "from mpl_toolkits.mplot3d import Axes3D\n",
    "from pandas import Series,DataFrame\n",
    "\n",
    "fig_size = plt.rcParams[\"figure.figsize\"]\n",
    "fig_size[0] = 12\n",
    "fig_size[1] = 8\n",
    "print(np.version.full_version)\n",
    "print(matplotlib.__version__)\n",
    "print(pd.__version__)"
   ]
  },
  {
   "cell_type": "code",
   "execution_count": 14,
   "metadata": {},
   "outputs": [
    {
     "name": "stdout",
     "output_type": "stream",
     "text": [
      "(5000, 400)\n",
      "(5000,)\n",
      "5000\n"
     ]
    }
   ],
   "source": [
    "from scipy.io import loadmat\n",
    "\n",
    "# データの読み込み\n",
    "def load_data1():\n",
    "    data = loadmat(\"./03_Logistic Regression_data_03.mat\")\n",
    "    # yが元データだと5000x1の行列なので、ベクトルに変換する\n",
    "    return np.array(data['X']), np.ravel(np.array(data['y']))\n",
    "\n",
    "X_data, y = load_data1()\n",
    "m = len(X_data[:, 1])\n",
    "print(X_data.shape)\n",
    "print(y.shape)\n",
    "print(m)"
   ]
  },
  {
   "cell_type": "code",
   "execution_count": 32,
   "metadata": {},
   "outputs": [
    {
     "data": {
      "image/png": "[encoded data removed]",
      "text/plain": [
       "<matplotlib.figure.Figure at 0x1678c668>"
      ]
     },
     "metadata": {},
     "output_type": "display_data"
    }
   ],
   "source": [
    "# ランダムに100個を画像で表示\n",
    "np.random.seed(114514)# ここをコメントアウトすると再現性はなくなる\n",
    "sel = np.arange(m)\n",
    "np.random.shuffle(sel)\n",
    "sel = sel[:100]\n",
    "fig = plt.figure(figsize = (10, 10))\n",
    "fig.subplots_adjust(hspace=0.05, wspace=0.05)\n",
    "for i in range(100):\n",
    "    ax = fig.add_subplot(10, 10, i + 1, xticks=[], yticks=[])\n",
    "    ax.imshow(X_data[sel[i]].reshape((20, 20)).T, cmap='gray')\n",
    "plt.show()"
   ]
  },
  {
   "cell_type": "code",
   "execution_count": 1,
   "metadata": {},
   "outputs": [],
   "source": [
    "# 定数の定義\n",
    "INPUT_LAYER_SIZE = 400\n",
    "HIDDEN_LAYER_SIZE = 25\n",
    "NUM_LABELS = 10\n",
    "\n",
    "## 関数の定義\n",
    "# シグモイド関数\n",
    "def sigmoid(z):\n",
    "    return 1 / (1 + np.exp(-z))\n",
    "\n",
    "# シグモイド関数の導関数\n",
    "def sigmoid_gradient(z):\n",
    "    g = sigmoid(z)\n",
    "    return g * (1 - g)"
   ]
  },
  {
   "cell_type": "code",
   "execution_count": 9,
   "metadata": {},
   "outputs": [
    {
     "name": "stdout",
     "output_type": "stream",
     "text": [
      "Sigmoid gradient evaluated at [-1 -0.5 0 0.5 1]:\n",
      "[0.19661193 0.23500371 0.25       0.23500371 0.19661193]\n",
      "\n"
     ]
    }
   ],
   "source": [
    "g = sigmoid_gradient(np.array([-1, -0.5, 0, 0.5, 1]))\n",
    "print(\"Sigmoid gradient evaluated at [-1 -0.5 0 0.5 1]:\")\n",
    "print(g)\n",
    "print()"
   ]
  },
  {
   "cell_type": "markdown",
   "metadata": {},
   "source": [
    "<b>Forward Propagation</b>\n",
    "* 入力層にバイアスユニットを追加\n",
    "\n",
    "    A1 = np.c_[np.ones((m, 1)), X]\n",
    "    \n",
    "    \n",
    "* 第2層のパラメーターを計算\n",
    "\n",
    "    Z2 = np.dot(A1, Theta1.T)\n",
    "    \n",
    "    A2 = sigmoid(Z2)\n",
    "    \n",
    "    \n",
    "* 第2層にバイアスユニットを追加\n",
    "\n",
    "    A2 = np.c_[np.ones((A2.shape[0], 1)), A2]\n",
    "    \n",
    "    \n",
    "* 推定値\n",
    "\n",
    "    h_theta = sigmoid(np.dot(A2, Theta2.T))\n",
    "    \n",
    "    \n",
    "* 誤差の計算\n",
    "\n",
    "    J = np.sum(np.sum(-Y * np.log(h_theta) - (1 - Y) * np.log(1 - h_theta))) / m\n",
    "    \n",
    "    J += lambda_ / 2 / m * (np.sum(np.sum(Theta1[:, 1:] ** 2)) + np.sum(np.sum(Theta2[:, 1:] ** 2)))\n",
    "    \n",
    "\n",
    "\\begin{gather*} $J(\\Theta) = -\\frac{1}{m} \\left[ \\sum\\limits_{i=1}^{m} \\sum\\limits_{k=1}^{k} {y_k}^{(i)} \\log {(h_\\Theta(x^{(i)}))}_k + \\left( 1 - y_k^{(i)} \\right) \\log \\left( 1- {\\left( h_\\Theta \\left( x^{(i)}_k \\right) \\right)} \\right) \\right] + \\frac{\\lambda}{2m} \\sum\\limits_{l=1}^{L-1} \\sum\\limits_{i=1}^{s_l} \\sum\\limits_{j=1}^{s_{l+1}} \\left( \\Theta_{ji}^{(l)} \\right)^2\\end{gather*}"
   ]
  },
  {
   "cell_type": "markdown",
   "metadata": {},
   "source": [
    "<hr/>\n",
    "<b>Back Propagation</b>\n",
    "\n",
    "\n",
    "$\\delta_j^{(l)}$ ⇒ error of node $j$ in layer $l$\n",
    "\n",
    "\n",
    "* δ^(3)＝推定値-訓練データのY\n",
    "\n",
    "    delta_3 = h_theta - Y\n",
    "    \n",
    "    $\\delta^{(3)}=a^{(3)}-y$\n",
    "\n",
    "\n",
    "* δ^(2)の計算\n",
    "\n",
    "    delta_2 = np.dot(delta\\_3, Theta2) * np.c_[np.zeros((m, 1)), sigmoid_gradient(Z2)]\n",
    "    \n",
    "    $\\delta^{(2)}=\\left({\\Theta^{(2)}}\\right)^{T}\\delta^{(3)}\\ast g'\\left(z^{(2)}\\right)$\n",
    "    * $g'(z^{(2)})=a^{(2)}\\ast(1-a^{(2)})$\n",
    "\n",
    "\n",
    "* δ^(2)からバイアスユニットのパラメーターを取り除く\n",
    "\n",
    "    delta_2 = delta_2[:, 1:]\n",
    "    \n",
    "    \n",
    "* 誤差を集計し、⊿^(1), ⊿^(2)を計算\n",
    "\n",
    "    $\\frac{\\partial}{\\partial\\Theta_{ij}^{(l)}}J(\\Theta)=a_{j}^{(l)} \\delta_{i}^{l+1}$\n",
    "\n",
    "\n",
    "\n",
    "    Delta2 = np.dot(delta_3.T, A2)\n",
    "    \n",
    "    Delta1 = np.dot(delta_2.T, A1)\n",
    "    \n",
    "    \n",
    "* 正則化を除いた勾配行列を求める\n",
    "\n",
    "    $D^{(l)}_{i,j} := \\dfrac{1}{m}\\left(\\Delta^{(l)}_{i,j} + \\lambda\\Theta^{(l)}_{i,j}\\right)$\n",
    "    \n",
    "\n",
    "    Theta2_grad = Delta2 / m    \n",
    "    \n",
    "    Theta1_grad = Delta1 / m\n",
    "    \n",
    "* 正則化の項を勾配に追加\n",
    "\n",
    "    $\\dfrac{1}{m}\\left(\\lambda\\Theta^{(l)}_{i,j}\\right)$\n",
    "    \n",
    "\n",
    "    if lambda_ > 0:\n",
    "        Numpyの行列の代入は参照渡しなので、ディープコピーする\n",
    "        temp = copy.deepcopy(Theta1)\n",
    "        temp[:, 0] = 0\n",
    "        Theta1_grad += temp * (lambda_ / m)\n",
    "        Theta2についても同様に足す\n",
    "        temp = copy.deepcopy(Theta2)\n",
    "        temp[:, 0] = 0\n",
    "        Theta2_grad += temp * (lambda_ / m)"
   ]
  },
  {
   "cell_type": "code",
   "execution_count": 20,
   "metadata": {},
   "outputs": [],
   "source": [
    "# コスト関数\n",
    "## ニューラルネットワークの訓練\n",
    "import sys, time\n",
    "import copy\n",
    "\n",
    "def nn_cost_function(nn_params, input_layer_size, hidden_layer_size, num_labels, X, y, lambda_):\n",
    "    # UnrollではなくTupleとして入れる\n",
    "    Theta1 = nn_params[0]\n",
    "    Theta2 = nn_params[1]\n",
    "    m = X.shape[0]\n",
    "    # yが1～10の値なので分類器ごとのブール値になるように変換\n",
    "    Y = np.zeros((m, num_labels))\n",
    "    for i in range(num_labels):\n",
    "        Y[:, i] = y == (i+1)\n",
    "\n",
    "    ## Forward Propagation\n",
    "    # 入力層にバイアスユニットを追加\n",
    "    A1 = np.c_[np.ones((m, 1)), X]\n",
    "    # 第2層のパラメーターを計算\n",
    "    Z2 = np.dot(A1, Theta1.T)\n",
    "    A2 = sigmoid(Z2)\n",
    "    # 第2層にバイアスユニットを追加\n",
    "    A2 = np.c_[np.ones((A2.shape[0], 1)), A2]\n",
    "    # 推定値\n",
    "    h_theta = sigmoid(np.dot(A2, Theta2.T))\n",
    "    # 誤差の計算\n",
    "    J = np.sum(np.sum(-Y * np.log(h_theta) - (1 - Y) * np.log(1 - h_theta))) / m\n",
    "    J += lambda_ / 2 / m * (np.sum(np.sum(Theta1[:, 1:] ** 2)) + np.sum(np.sum(Theta2[:, 1:] ** 2)))\n",
    "\n",
    "    ## Back Propagation\n",
    "    # δ^(3)＝推定値-訓練データのY\n",
    "    delta_3 = h_theta - Y\n",
    "    # δ^(2)の計算\n",
    "    delta_2 = np.dot(delta_3, Theta2) * np.c_[np.zeros((m, 1)), sigmoid_gradient(Z2)]\n",
    "    # δ^(2)からバイアスユニットのパラメーターを取り除く\n",
    "    delta_2 = delta_2[:, 1:]\n",
    "    # 誤差を集計し、⊿^(1), ⊿^(2)を計算\n",
    "    Delta2 = np.dot(delta_3.T, A2)\n",
    "    Delta1 = np.dot(delta_2.T, A1)\n",
    "    # 正則化を除いた勾配行列を求める\n",
    "    Theta2_grad = Delta2 / m\n",
    "    Theta1_grad = Delta1 / m\n",
    "\n",
    "    ## 正則化の項を勾配に追加\n",
    "    if lambda_ > 0:\n",
    "        # Numpyの行列の代入は参照渡しなので、ディープコピーする\n",
    "        temp = copy.deepcopy(Theta1)\n",
    "        temp[:, 0] = 0\n",
    "        Theta1_grad += temp * (lambda_ / m)\n",
    "        # Theta2についても同様に足す\n",
    "        temp = copy.deepcopy(Theta2)\n",
    "        temp[:, 0] = 0\n",
    "        Theta2_grad += temp * (lambda_ / m)\n",
    "\n",
    "    # 返り値はJ, (Theta1_grad, Theta2_grad)\n",
    "    return J, (Theta1_grad, Theta2_grad)"
   ]
  },
  {
   "cell_type": "code",
   "execution_count": null,
   "metadata": {},
   "outputs": [],
   "source": []
  },
  {
   "cell_type": "code",
   "execution_count": 21,
   "metadata": {},
   "outputs": [],
   "source": [
    "# ランダムな初期値を設定\n",
    "def rand_initialize_weights(L_in, L_out):\n",
    "    # Θに係数に対して、（Forward Propagationで）入力元のレイヤーのユニットの数=L_in\n",
    "    # 出ていくレイヤーのユニットの数=L_out\n",
    "    epsilon_init = 0.12\n",
    "    # ε_initをアドホックに与えたが、ε_init = √6÷√(L_in + L_out)とおくとよいらしい\n",
    "    # ε_init=0.12 で逆算すると、L_in + L_outが416.7になるので、入力層=401→隠れ層=25なのでだいたいあってる\n",
    "    return np.random.uniform(-epsilon_init, epsilon_init, (L_out, 1+L_in))"
   ]
  },
  {
   "cell_type": "code",
   "execution_count": 22,
   "metadata": {},
   "outputs": [
    {
     "name": "stdout",
     "output_type": "stream",
     "text": [
      "(25, 401)\n",
      "(10, 26)\n"
     ]
    }
   ],
   "source": [
    "# Θの初期値\n",
    "initial_Theta1 = rand_initialize_weights(INPUT_LAYER_SIZE, HIDDEN_LAYER_SIZE)\n",
    "initial_Theta2 = rand_initialize_weights(HIDDEN_LAYER_SIZE, NUM_LABELS)\n",
    "print(initial_Theta1.shape)\n",
    "print(initial_Theta2.shape)"
   ]
  },
  {
   "cell_type": "code",
   "execution_count": 23,
   "metadata": {},
   "outputs": [
    {
     "name": "stdout",
     "output_type": "stream",
     "text": [
      "Feedforward Using Neural Network ...\n",
      "Cost at parameters (loaded from ex4weights): 6.629273234653834\n",
      "(this value should be about 0.287629)\n",
      "\n",
      "Checking Cost Function (w/ Regularization) ...\n",
      "Cost at parameters (loaded from ex4weights): 6.634134755904929\n",
      "(this value should be about 0.383770)\n",
      "\n"
     ]
    }
   ],
   "source": [
    "## 関数のテスト\n",
    "# 事前に読み込んだTheta1, Theta2で計算, λ=0とする（正則化なし）\n",
    "lambda_ = 0\n",
    "J,grad = nn_cost_function((initial_Theta1, initial_Theta2), INPUT_LAYER_SIZE, HIDDEN_LAYER_SIZE, NUM_LABELS, X_data, y, lambda_)\n",
    "print(\"Feedforward Using Neural Network ...\")\n",
    "print(\"Cost at parameters (loaded from ex4weights):\", J)\n",
    "print(\"(this value should be about 0.287629)\\n\")\n",
    "# λ＝1で正則化\n",
    "lambda_ = 1\n",
    "J,grad = nn_cost_function((initial_Theta1, initial_Theta2), INPUT_LAYER_SIZE, HIDDEN_LAYER_SIZE, NUM_LABELS, X_data, y, lambda_)\n",
    "print(\"Checking Cost Function (w/ Regularization) ...\")\n",
    "print(\"Cost at parameters (loaded from ex4weights):\", J)\n",
    "print(\"(this value should be about 0.383770)\\n\")"
   ]
  },
  {
   "cell_type": "code",
   "execution_count": 24,
   "metadata": {},
   "outputs": [
    {
     "name": "stdout",
     "output_type": "stream",
     "text": [
      "Training Neural Network...\n",
      "iter = 499, J = 0.47631330855792514\n"
     ]
    }
   ],
   "source": [
    "# 最急降下法の定義\n",
    "def gradient_descent(initial_all_theta, cost_warp, eta, maxiter = 100):\n",
    "    theta_before = initial_all_theta\n",
    "    for i in range(maxiter):\n",
    "        J, grad = cost_warp(theta_before)\n",
    "        theta = copy.deepcopy(theta_before)\n",
    "        for j in range(len(initial_all_theta)):\n",
    "            theta[j] = theta[j] - eta * grad[j]\n",
    "        mes = f\"iter = {i}, J = {J}\"\n",
    "        theta_before = theta\n",
    "        # コンソールを埋め尽くさないように上書きしながら表示\n",
    "        sys.stdout.write(\"\\r%s\" % mes)\n",
    "        sys.stdout.flush()\n",
    "        time.sleep(0.01)\n",
    "    return theta, J\n",
    "\n",
    "# Θの初期値\n",
    "initial_Theta1 = rand_initialize_weights(INPUT_LAYER_SIZE, HIDDEN_LAYER_SIZE)\n",
    "initial_Theta2 = rand_initialize_weights(HIDDEN_LAYER_SIZE, NUM_LABELS)\n",
    "# 正規化＝1と設定（ここをいろいろ変える）\n",
    "lambda_ = 1\n",
    "# ニューラルネットワークの訓練\n",
    "print(\"Training Neural Network...\")\n",
    "nn_cost_wrap = lambda Theta: nn_cost_function(Theta, INPUT_LAYER_SIZE, HIDDEN_LAYER_SIZE, NUM_LABELS, X_data, y, lambda_)\n",
    "nn_Thetas, cost = gradient_descent([initial_Theta1, initial_Theta2], nn_cost_wrap, 2, 500)\n",
    "print()"
   ]
  },
  {
   "cell_type": "code",
   "execution_count": 28,
   "metadata": {},
   "outputs": [
    {
     "name": "stdout",
     "output_type": "stream",
     "text": [
      "(25, 401)\n",
      "(10, 26)\n"
     ]
    }
   ],
   "source": [
    "print(nn_Thetas[0].shape)\n",
    "print(nn_Thetas[1].shape)"
   ]
  },
  {
   "cell_type": "code",
   "execution_count": 29,
   "metadata": {},
   "outputs": [
    {
     "name": "stdout",
     "output_type": "stream",
     "text": [
      "Training Set Accuracy: 95.26\n"
     ]
    }
   ],
   "source": [
    "## 予測と精度\n",
    "def predict(Theta1, Theta2, X):\n",
    "    m = X.shape[0]\n",
    "    num_labes = Theta2.shape[0]\n",
    "    h1 = sigmoid(np.dot(np.c_[np.ones((m, 1)), X], Theta1.T))\n",
    "    h2 = sigmoid(np.dot(np.c_[np.ones((m, 1)), h1], Theta2.T))\n",
    "    p = np.argmax(h2, axis=1)+1\n",
    "    return p\n",
    "\n",
    "# 精度\n",
    "pred = predict(nn_Thetas[0], nn_Thetas[1], X_data)\n",
    "print(\"Training Set Accuracy:\", np.mean(pred == y) * 100)"
   ]
  },
  {
   "cell_type": "code",
   "execution_count": 30,
   "metadata": {},
   "outputs": [
    {
     "data": {
      "image/png": "[encoded data removed]",
      "text/plain": [
       "<matplotlib.figure.Figure at 0x1050f400>"
      ]
     },
     "metadata": {},
     "output_type": "display_data"
    }
   ],
   "source": [
    "## ネットワークの可視化\n",
    "def display_data(X):\n",
    "    fig = plt.figure(figsize = (5, 5))\n",
    "    fig.subplots_adjust(hspace=0.05, wspace=0.05)\n",
    "    for i in range(X.shape[0]):\n",
    "        ax = fig.add_subplot(5, 5, i+1, xticks=[], yticks=[])\n",
    "        ax.imshow(X[i, :-1].reshape(20, 20, order=\"F\"), cmap=\"gray\")\n",
    "    plt.show()\n",
    "\n",
    "display_data(nn_Thetas[0])#もう二度とニューラルネットワークを自力で書きたくねえ"
   ]
  },
  {
   "cell_type": "code",
   "execution_count": null,
   "metadata": {},
   "outputs": [],
   "source": []
  },
  {
   "cell_type": "markdown",
   "metadata": {},
   "source": [
    "<b>（隠れ層なしのニューラルネットワーク）</b>"
   ]
  },
  {
   "cell_type": "code",
   "execution_count": 33,
   "metadata": {},
   "outputs": [
    {
     "name": "stdout",
     "output_type": "stream",
     "text": [
      "X : shape = (5000, 400)\n",
      "y : shape = (5000,)\n",
      "\n",
      "切片 : shape = (10,)\n",
      "[-2.38368769 -3.18302619 -4.79746133 -2.01355322  0.17550713 -3.14856414\n",
      " -1.90394385 -7.98717568 -4.57254937 -5.40568903]\n",
      "係数 : shape = (10, 400)\n",
      "[[ 0.00000000e+00  0.00000000e+00  3.53650804e-05 ...  1.30431448e-03\n",
      "  -7.29175668e-10  0.00000000e+00]\n",
      " [ 0.00000000e+00  0.00000000e+00 -2.80610230e-05 ...  4.46082357e-03\n",
      "  -5.08589273e-04  0.00000000e+00]\n",
      " [ 0.00000000e+00  0.00000000e+00 -8.08986165e-06 ... -2.87050198e-05\n",
      "  -2.47483307e-07  0.00000000e+00]\n",
      " ...\n",
      " [ 0.00000000e+00  0.00000000e+00 -4.78980836e-06 ... -8.94785178e-05\n",
      "   7.21469722e-06  0.00000000e+00]\n",
      " [ 0.00000000e+00  0.00000000e+00 -5.50664587e-07 ... -1.33539650e-03\n",
      "   9.98597491e-05  0.00000000e+00]\n",
      " [ 0.00000000e+00  0.00000000e+00 -2.35768210e-09 ... -1.16635470e-04\n",
      "   7.88299299e-06  0.00000000e+00]]\n",
      "精度 = 94.46\n"
     ]
    }
   ],
   "source": [
    "from sklearn.linear_model import LogisticRegression\n",
    "# ロジスティック回帰\n",
    "regr = LogisticRegression(multi_class=\"ovr\", solver=\"newton-cg\") #multi_class=\"ovr\"でOneVsRest（1対多クラス分類になる）\n",
    "print(\"X : shape =\", X_data.shape)\n",
    "print(\"y : shape =\", y.shape)\n",
    "print()\n",
    "regr.fit(X_data, y)\n",
    "print(\"切片 : shape =\", regr.intercept_.shape)\n",
    "print(regr.intercept_)\n",
    "print(\"係数 : shape =\", regr.coef_.shape)\n",
    "print(regr.coef_)\n",
    "print(\"精度 =\",regr.score(X_data, y) * 100)"
   ]
  },
  {
   "cell_type": "code",
   "execution_count": null,
   "metadata": {},
   "outputs": [],
   "source": []
  },
  {
   "cell_type": "markdown",
   "metadata": {},
   "source": [
    "<b>(ニューラルネットワーク（隠れ層あり）)</b>"
   ]
  },
  {
   "cell_type": "code",
   "execution_count": 34,
   "metadata": {},
   "outputs": [
    {
     "name": "stdout",
     "output_type": "stream",
     "text": [
      "第 0 層\n",
      " 切片 = (26,)\n",
      " 係数 = (400, 26)\n",
      "第 1 層\n",
      " 切片 = (10,)\n",
      " 係数 = (26, 10)\n",
      "\n",
      "訓練データの精度 : 100.0\n"
     ]
    }
   ],
   "source": [
    "from sklearn.neural_network import MLPClassifier\n",
    "\n",
    "# 分類器\n",
    "clf = MLPClassifier(hidden_layer_sizes=(26, ), solver=\"adam\", random_state=114514, max_iter=10000)\n",
    "clf.fit(X_data, y)\n",
    "\n",
    "# 切片と係数のデータ型はlist\n",
    "for idx, (intercept, coef) in enumerate(zip(clf.intercepts_, clf.coefs_)):\n",
    "    print(\"第\",idx,\"層\")\n",
    "    print(\" 切片 =\", intercept.shape)\n",
    "    print(\" 係数 =\", coef.shape)\n",
    "    #print(coef)\n",
    "print(\"\")\n",
    "print(\"訓練データの精度 :\",clf.score(X_data, y)*100)"
   ]
  }
 ],
 "metadata": {
  "kernelspec": {
   "display_name": "Python 3",
   "language": "python",
   "name": "python3"
  },
  "language_info": {
   "codemirror_mode": {
    "name": "ipython",
    "version": 3
   },
   "file_extension": ".py",
   "mimetype": "text/x-python",
   "name": "python",
   "nbconvert_exporter": "python",
   "pygments_lexer": "ipython3",
   "version": "3.7.1"
  },
  "latex_envs": {
   "LaTeX_envs_menu_present": true,
   "autoclose": false,
   "autocomplete": true,
   "bibliofile": "biblio.bib",
   "cite_by": "apalike",
   "current_citInitial": 1,
   "eqLabelWithNumbers": true,
   "eqNumInitial": 1,
   "hotkeys": {
    "equation": "Ctrl-E",
    "itemize": "Ctrl-I"
   },
   "labels_anchors": false,
   "latex_user_defs": false,
   "report_style_numbering": false,
   "user_envs_cfg": false
  },
  "toc": {
   "base_numbering": 1,
   "nav_menu": {},
   "number_sections": true,
   "sideBar": true,
   "skip_h1_title": false,
   "title_cell": "Table of Contents",
   "title_sidebar": "Contents",
   "toc_cell": false,
   "toc_position": {},
   "toc_section_display": true,
   "toc_window_display": false
  }
 },
 "nbformat": 4,
 "nbformat_minor": 2
}
