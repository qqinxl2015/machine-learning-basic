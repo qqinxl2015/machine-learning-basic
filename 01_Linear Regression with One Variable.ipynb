{
 "cells": [
  {
   "cell_type": "markdown",
   "metadata": {},
   "source": [
    "<h1>Linear Regression with One Variable</h1>"
   ]
  },
  {
   "cell_type": "markdown",
   "metadata": {},
   "source": [
    "例：不動産価格予測\n",
    "\n",
    "■既にあるデータ\n",
    "<img src=\"https://raw.githubusercontent.com/fengdu78/Coursera-ML-AndrewNg-Notes/master/images/44c68412e65e62686a96ad16f278571f.png\">\n",
    "\n",
    "■機械学習\n",
    "<img src=\"https://raw.githubusercontent.com/fengdu78/Coursera-ML-AndrewNg-Notes/master/images/ad0718d6e5218be6e6fce9dc775a38e6.png\">\n",
    "\n",
    "↓↓↓↓↓↓↓↓↓↓↓↓↓↓↓↓↓↓↓↓↓↓↓↓↓↓↓↓↓↓↓↓↓↓↓↓↓↓↓↓↓↓↓↓↓↓↓↓↓↓↓↓↓↓↓↓↓↓↓↓↓↓↓↓↓↓↓↓↓↓↓↓↓↓↓↓↓↓↓↓↓↓↓↓↓↓↓↓↓↓↓↓↓↓↓↓↓↓↓↓↓↓↓↓↓↓↓↓↓↓↓↓↓↓↓↓↓↓↓↓↓↓↓↓↓↓↓↓\n",
    "\n",
    "\n",
    "■例えば、\n",
    "<img src=\"https://raw.githubusercontent.com/fengdu78/Coursera-ML-AndrewNg-Notes/master/images/8e76e65ca7098b74a2e9bc8e9577adfc.png\">"
   ]
  },
  {
   "cell_type": "code",
   "execution_count": null,
   "metadata": {},
   "outputs": [],
   "source": []
  },
  {
   "cell_type": "markdown",
   "metadata": {},
   "source": [
    "<hr/>\n",
    "<h1>仮定関数 (Hypothesis function)</h1>\n",
    "\n",
    "<img src=\"https://raw.githubusercontent.com/fengdu78/Coursera-ML-AndrewNg-Notes/master/images/d385f8a293b254454746adee51a027d4.png\">\n",
    "\n",
    "予測の問題から\n",
    "\n",
    "　↓\n",
    "\n",
    "$\\theta_{0}$と$\\theta_{1}$の特定の問題\n",
    "\n",
    "に入れ替えた\n"
   ]
  },
  {
   "cell_type": "code",
   "execution_count": null,
   "metadata": {},
   "outputs": [],
   "source": []
  },
  {
   "cell_type": "markdown",
   "metadata": {},
   "source": [
    "<hr/>\n",
    "<h1>コスト関数 (cost function)</h1>\n",
    "\n",
    "<img src=\"https://raw.githubusercontent.com/fengdu78/Coursera-ML-AndrewNg-Notes/master/images/6168b654649a0537c67df6f2454dc9ba.png\">\n",
    "\n",
    "$x=1$の時、\n",
    "* モデル値（予測値）： $h_{\\theta}(x^{(1)})$\n",
    "* 実測値：$y^{(1)}$\n",
    "* 差（コスト）：$ h_{\\theta}(x^{(1)})-y^{(1)} $\n",
    "* 差の二乗：$\\left( h_{\\theta}(x^{(1)})-y^{(i)} \\right)^{1}$\n",
    "\n",
    "<hr/>\n",
    "全て$x,y$のコストサマリは  \n",
    "* $\\sum\\limits_{i=1}^m \\left( h_{\\theta}(x^{(i)})-y^{(i)} \\right)^{2}$\n",
    "  * データポイント = $m$\n",
    "  \n",
    "<hr/>\n",
    "目的関数 (cost function)\n",
    "* $J \\left( \\theta_0, \\theta_1 \\right) = \\frac{1}{2m}\\sum\\limits_{i=1}^m \\left( h_{\\theta}(x^{(i)})-y^{(i)} \\right)^{2}$\n"
   ]
  },
  {
   "cell_type": "code",
   "execution_count": null,
   "metadata": {},
   "outputs": [],
   "source": []
  },
  {
   "cell_type": "markdown",
   "metadata": {},
   "source": [
    "予測の問題から\n",
    "\n",
    "　↓\n",
    "\n",
    "$\\theta_{0}$と$\\theta_{1}$の特定の問題\n",
    "\n",
    "　↓\n",
    "\n",
    "\n",
    "$J \\left( \\theta_0, \\theta_1 \\right)$ が最小値となるかどうか判定の問題。0がベスト。\n",
    "\n",
    "に入れ替えた\n",
    "\n",
    "\n",
    "<img src=\"https://raw.githubusercontent.com/fengdu78/Coursera-ML-AndrewNg-Notes/master/images/10ba90df2ada721cf1850ab668204dc9.png\">\n"
   ]
  },
  {
   "cell_type": "markdown",
   "metadata": {},
   "source": []
  },
  {
   "cell_type": "markdown",
   "metadata": {},
   "source": [
    "■$\\theta_1$のみを考え\n",
    "\n",
    "\n",
    "$h_\\theta \\left( x \\right)=\\theta_{0} + \\theta_{1}x$\n",
    "\n",
    "↓\n",
    "\n",
    "$h_\\theta \\left( x \\right)=\\theta_{1}x$\n",
    "\n",
    "\n",
    "<img src=\"https://raw.githubusercontent.com/fengdu78/Coursera-ML-AndrewNg-Notes/master/images/2c9fe871ca411ba557e65ac15d55745d.png\">\n",
    "\n",
    "例：\n",
    "* $J \\left( 0 \\right) = 2.3 $\n",
    "* $J \\left( 1 \\right) = 0 $\n",
    "* $J \\left( 2 \\right) = 2.3 $"
   ]
  },
  {
   "cell_type": "code",
   "execution_count": null,
   "metadata": {},
   "outputs": [],
   "source": []
  },
  {
   "cell_type": "markdown",
   "metadata": {},
   "source": [
    "■$h_\\theta \\left( x \\right)=\\theta_{0} + \\theta_{1}x$を考え\n",
    "\n",
    "<img src=\"https://raw.githubusercontent.com/fengdu78/Coursera-ML-AndrewNg-Notes/master/images/0b789788fc15889fe33fb44818c40852.png\">"
   ]
  },
  {
   "cell_type": "code",
   "execution_count": null,
   "metadata": {},
   "outputs": [],
   "source": []
  },
  {
   "cell_type": "markdown",
   "metadata": {},
   "source": [
    "<h1>最急降下法 (Gradient Descent)</h1>\n",
    "\n",
    "最急降下法は、例えば以下のようなJの最小点を探す際に、初期値に適当な値を取り、そこを出発点として、より小さな値を探索する方法。以下の例のように初期値により、異なる最小点（局所的最小点）にたどり着く事もある。\n",
    "\n",
    "<img width=500 src=\"https://camo.qiitausercontent.com/bda38ef098e47155407a3a0dc564ffc5fd13061a/68747470733a2f2f71696974612d696d6167652d73746f72652e73332e616d617a6f6e6177732e636f6d2f302f3130323338372f39356335323134382d396137302d353831342d343965622d6435653964353530313766392e706e67\">\n",
    "\n",
    "\n",
    "\n",
    "\n",
    "\n",
    "\n",
    "<img src=\"https://raw.githubusercontent.com/fengdu78/Coursera-ML-AndrewNg-Notes/master/images/4668349e04cf0c4489865e133d112e98.png\">\n",
    "\n",
    "<img style=\"float:left\" src=\"https://raw.githubusercontent.com/fengdu78/Coursera-ML-AndrewNg-Notes/master/images/ef4227864e3cabb9a3938386f857e938.png\">\n",
    "\n",
    "<br style=\"clear:both\"/>\n",
    "\n",
    "\n"
   ]
  },
  {
   "cell_type": "markdown",
   "metadata": {},
   "source": [
    "<h2>$a$ = learning rate の理解</h2>\n",
    "<img width=600 src=\"https://camo.qiitausercontent.com/92ed923d24a7c64441740d8bff52080392dad4b7/68747470733a2f2f71696974612d696d6167652d73746f72652e73332e616d617a6f6e6177732e636f6d2f302f3130323338372f65336639316261662d373232312d663235372d353938332d3166376336356137623731362e706e67\">"
   ]
  },
  {
   "cell_type": "markdown",
   "metadata": {},
   "source": [
    "<h2>ロジック</h2>\n",
    "■前提：\n",
    "<img src=\"https://raw.githubusercontent.com/fengdu78/Coursera-ML-AndrewNg-Notes/master/images/5eb364cc5732428c695e2aa90138b01b.png\">\n",
    "\n",
    "■推理：\n",
    "\n",
    "<img width=400 src=\"https://camo.qiitausercontent.com/d79dfad1ce97bcf06a9b9aa580deff904886a50b/68747470733a2f2f71696974612d696d6167652d73746f72652e73332e616d617a6f6e6177732e636f6d2f302f3130323338372f30363231333165342d306435662d306563332d656639612d3736343738636630373438662e706e67\">\n",
    "\n",
    "より\n",
    "\n",
    "<img width=400  src=\"https://camo.qiitausercontent.com/bbeef19489110fc93885139668c90085eab2e9da/68747470733a2f2f71696974612d696d6167652d73746f72652e73332e616d617a6f6e6177732e636f6d2f302f3130323338372f61353638343633352d623762642d346536632d626334362d3335363436333064373839342e706e67\">\n",
    "\n"
   ]
  },
  {
   "cell_type": "code",
   "execution_count": null,
   "metadata": {},
   "outputs": [],
   "source": []
  },
  {
   "cell_type": "code",
   "execution_count": 5,
   "metadata": {},
   "outputs": [
    {
     "name": "stdout",
     "output_type": "stream",
     "text": [
      "1.15.4\n",
      "2.1.1\n",
      "0.23.4\n"
     ]
    }
   ],
   "source": [
    "import numpy as np\n",
    "import matplotlib \n",
    "import pandas as pd\n",
    "import matplotlib.pyplot as plt\n",
    "from mpl_toolkits.mplot3d import Axes3D\n",
    "from pandas import Series,DataFrame\n",
    "\n",
    "fig_size = plt.rcParams[\"figure.figsize\"]\n",
    "fig_size[0] = 12\n",
    "fig_size[1] = 8\n",
    "print(np.version.full_version)\n",
    "print(matplotlib.__version__)\n",
    "print(pd.__version__)"
   ]
  },
  {
   "cell_type": "code",
   "execution_count": 20,
   "metadata": {},
   "outputs": [
    {
     "data": {
      "image/png": "[encoded data removed]",
      "text/plain": [
       "<matplotlib.figure.Figure at 0x13964a90>"
      ]
     },
     "metadata": {},
     "output_type": "display_data"
    }
   ],
   "source": [
    "data = np.loadtxt('./01_Linear Regression_data_01.csv', delimiter=\",\", skiprows=1)\n",
    "plt.plot(data[:,0], data[:,1], 'rx', markersize=10, label='Traning')\n",
    "plt.xlabel('Study Hours')\n",
    "plt.ylabel('Test Score')\n",
    "plt.grid(True)\n",
    "plt.show()"
   ]
  },
  {
   "cell_type": "code",
   "execution_count": null,
   "metadata": {},
   "outputs": [],
   "source": []
  },
  {
   "cell_type": "code",
   "execution_count": 30,
   "metadata": {},
   "outputs": [
    {
     "data": {
      "image/png": "[encoded data removed]",
      "text/plain": [
       "<matplotlib.figure.Figure at 0x14ad6b38>"
      ]
     },
     "metadata": {},
     "output_type": "display_data"
    }
   ],
   "source": [
    "plt.plot(data[:, 0],data[:, 1], 'rx', markersize=10, label='Training')\n",
    "plt.xlabel('Study Hours')\n",
    "plt.ylabel('Test Scores')\n",
    "\n",
    "plt.plot(data[:, 0],data[:, 0] * 0 + 0,'b-', label='Linear regression 1')\n",
    "\n",
    "plt.plot(data[:, 0],data[:, 0] * 2 + 55,'b-', label='Linear regression 2')\n",
    "\n",
    "plt.legend()\n",
    "plt.show()"
   ]
  },
  {
   "cell_type": "code",
   "execution_count": 31,
   "metadata": {},
   "outputs": [
    {
     "name": "stdout",
     "output_type": "stream",
     "text": [
      "3128.3979591836733\n",
      "119.36734693877547\n"
     ]
    }
   ],
   "source": [
    "#w0,w1を決めて上、全部のコストを計算し合計する\n",
    "#J(w_{0}, w_{1}\n",
    "def cost(w0, w1, data):\n",
    "    cost = 0\n",
    "    for i in range(0, len(data)):\n",
    "        x = data[i, 0]\n",
    "        y = data[i, 1]\n",
    "        y_h = w1 * x + w0\n",
    "        cost += (y_h - y) ** 2\n",
    "    cost = cost / (len(data) * 2)\n",
    "    return cost\n",
    "print(cost(0,0, data))\n",
    "print(cost(55,2, data))"
   ]
  },
  {
   "cell_type": "markdown",
   "metadata": {},
   "source": [
    "\n",
    "<img width=400  src=\"https://camo.qiitausercontent.com/bbeef19489110fc93885139668c90085eab2e9da/68747470733a2f2f71696974612d696d6167652d73746f72652e73332e616d617a6f6e6177732e636f6d2f302f3130323338372f61353638343633352d623762642d346536632d626334362d3335363436333064373839342e706e67\">"
   ]
  },
  {
   "cell_type": "code",
   "execution_count": 32,
   "metadata": {},
   "outputs": [
    {
     "name": "stdout",
     "output_type": "stream",
     "text": [
      "[7.822448979591835, 40.169183673469384]\n"
     ]
    }
   ],
   "source": [
    "#最急降下法\n",
    "def gradientDescent(w0_in,w1_in, data,alpha):\n",
    "    w0_gradient=0\n",
    "    w1_gradient=0\n",
    "    m = float(len(data))\n",
    "    for i in range(0, len(data)):\n",
    "        x = data[i,0]\n",
    "        y = data[i,1]\n",
    "        y_h = w1_in * x + w0_in\n",
    "        w0_gradient +=(1/m)* (y_h - y )\n",
    "        w1_gradient +=(1/m)* (y_h - y ) * x\n",
    "    w0_out= w0_in - (alpha * w0_gradient) \n",
    "    w1_out= w1_in - (alpha * w1_gradient) \n",
    "    return [w0_out, w1_out]\n",
    "\n",
    "print(gradientDescent(0,0, data, 0.1))"
   ]
  },
  {
   "cell_type": "code",
   "execution_count": 45,
   "metadata": {},
   "outputs": [],
   "source": [
    "def run(data, init_w0, init_w1, alpha, iterations):\n",
    "    w0 = init_w0\n",
    "    w1 = init_w1\n",
    "    J_history = np.zeros((iterations, 1))\n",
    "    for i in range(iterations):\n",
    "        w0, w1 = gradientDescent(w0,w1,np.array(data), alpha)\n",
    "        J_history[i] = cost(w0,w1, data)\n",
    "    return [w0,w1, J_history]"
   ]
  },
  {
   "cell_type": "code",
   "execution_count": 49,
   "metadata": {},
   "outputs": [
    {
     "name": "stdout",
     "output_type": "stream",
     "text": [
      "54.02337740800279 5.003972036168961\n"
     ]
    }
   ],
   "source": [
    "alpha = 0.01\n",
    "init_w0, init_w1 = 0,0 \n",
    "iterations = 2000\n",
    "\n",
    "w0, w1, J_history = run(data, init_w0, init_w1, alpha, iterations)\n",
    "print(w0, w1)"
   ]
  },
  {
   "cell_type": "code",
   "execution_count": 50,
   "metadata": {},
   "outputs": [
    {
     "data": {
      "image/png": "[encoded data removed]",
      "text/plain": [
       "<matplotlib.figure.Figure at 0x14beaf28>"
      ]
     },
     "metadata": {},
     "output_type": "display_data"
    }
   ],
   "source": [
    "# 動画内のコード\n",
    "plt.plot(data[:, 0],data[:, 1], 'rx', markersize=10, label='Training')\n",
    "plt.xlabel('Study Hours')\n",
    "plt.ylabel('Test Scores')\n",
    "\n",
    "plt.plot(data[:, 0],data[:, 0] * w1 + w0,'-', label='Linear regression')\n",
    "plt.legend()\n",
    "plt.show()"
   ]
  },
  {
   "cell_type": "code",
   "execution_count": 51,
   "metadata": {},
   "outputs": [
    {
     "data": {
      "image/png": "[encoded data removed]",
      "text/plain": [
       "<matplotlib.figure.Figure at 0x14cae6a0>"
      ]
     },
     "metadata": {},
     "output_type": "display_data"
    }
   ],
   "source": [
    "flg = plt.figure()\n",
    "plt.plot(range(J_history.size), J_history, \"-b\", linewidth=1)\n",
    "plt.xlabel('Number of iterations')\n",
    "plt.ylabel('Cost_J')\n",
    "plt.grid(True)\n",
    "plt.show()"
   ]
  },
  {
   "cell_type": "code",
   "execution_count": null,
   "metadata": {},
   "outputs": [],
   "source": []
  },
  {
   "cell_type": "markdown",
   "metadata": {},
   "source": [
    "<b>（おすすめ1）sklearn.linear_modelの正規方程式 LinearRegressionを使う</b>"
   ]
  },
  {
   "cell_type": "code",
   "execution_count": 53,
   "metadata": {},
   "outputs": [
    {
     "name": "stdout",
     "output_type": "stream",
     "text": [
      "LinearRegression on sklearn.linear_model ...\n",
      "Intercept: 55.19459324073094\n",
      "Coefficients:  [4.8060687]\n"
     ]
    }
   ],
   "source": [
    "# Scikit-learnの組み込み最小二乗法\n",
    "from sklearn.linear_model import LinearRegression\n",
    "print(\"LinearRegression on sklearn.linear_model ...\")\n",
    "regr = LinearRegression(normalize=False) #Trueにした場合は平均とL2ノルムでスケール調整が行われる\n",
    "regr.fit(data[:,0].reshape(-1, 1), data[:,1]) #データが1変数の場合はreshapeするのが大事\n",
    "print(\"Intercept:\", regr.intercept_) #切片（定数項）\n",
    "print(\"Coefficients: \", regr.coef_) #xの係数"
   ]
  },
  {
   "cell_type": "markdown",
   "metadata": {},
   "source": [
    "<b>（おすすめ2）sklearn.linear_modelのSGDRegressorを使う</b>"
   ]
  },
  {
   "cell_type": "code",
   "execution_count": 54,
   "metadata": {},
   "outputs": [
    {
     "name": "stdout",
     "output_type": "stream",
     "text": [
      "SGDRegressor on sklearn.linear_model ...\n",
      "Intercept: [54.4536707]\n",
      "Coefficients:  [4.24730544]\n"
     ]
    }
   ],
   "source": [
    "# Scikit-learnの組み込み勾配降下法による回帰\n",
    "from sklearn.linear_model import SGDRegressor\n",
    "print(\"SGDRegressor on sklearn.linear_model ...\")\n",
    "#shuffle=Falseにすると最急降下法になるはず。max_iterはScikit-learn0.19以降\n",
    "regr = SGDRegressor(eta0=0.01, learning_rate=\"constant\", max_iter=1500, shuffle=False)\n",
    "regr.fit(data[:,0].reshape(-1, 1), data[:,1])\n",
    "print(\"Intercept:\", regr.intercept_)\n",
    "print(\"Coefficients: \", regr.coef_)"
   ]
  }
 ],
 "metadata": {
  "kernelspec": {
   "display_name": "Python 3",
   "language": "python",
   "name": "python3"
  },
  "language_info": {
   "codemirror_mode": {
    "name": "ipython",
    "version": 3
   },
   "file_extension": ".py",
   "mimetype": "text/x-python",
   "name": "python",
   "nbconvert_exporter": "python",
   "pygments_lexer": "ipython3",
   "version": "3.7.1"
  },
  "latex_envs": {
   "LaTeX_envs_menu_present": true,
   "autoclose": false,
   "autocomplete": true,
   "bibliofile": "biblio.bib",
   "cite_by": "apalike",
   "current_citInitial": 1,
   "eqLabelWithNumbers": true,
   "eqNumInitial": 1,
   "hotkeys": {
    "equation": "Ctrl-E",
    "itemize": "Ctrl-I"
   },
   "labels_anchors": false,
   "latex_user_defs": false,
   "report_style_numbering": false,
   "user_envs_cfg": false
  },
  "toc": {
   "base_numbering": 1,
   "nav_menu": {},
   "number_sections": true,
   "sideBar": true,
   "skip_h1_title": false,
   "title_cell": "Table of Contents",
   "title_sidebar": "Contents",
   "toc_cell": false,
   "toc_position": {},
   "toc_section_display": true,
   "toc_window_display": false
  }
 },
 "nbformat": 4,
 "nbformat_minor": 2
}
