{
 "cells": [
  {
   "cell_type": "markdown",
   "metadata": {},
   "source": [
    "<h1>Human learning & Machine learning</h1>"
   ]
  },
  {
   "cell_type": "markdown",
   "metadata": {},
   "source": [
    ">The field of study that gives computers the ability to learn without being explicitly programmed. \n",
    "\n",
    ">明示的なプログラミングをせず、コンピューターに学習能力を持たせる学問\n",
    "\n",
    ">-- Arthur Samuel\n",
    "\n",
    "\n",
    "<img src=\"https://i.loli.net/2018/07/24/5b55fd46171ea.png\"/>"
   ]
  },
  {
   "cell_type": "markdown",
   "metadata": {},
   "source": [
    "トム・ ミッチェルが提唱: 課題=T, 性能基準=P, 経験=Eとし、課題 T について、 性能基準 P に基づき、T についての性能が P で測定して、経験 E と共に改善している場合に、 経験 E から学習したと言うことが出来る。\n",
    "* 例：課題T=天気予報,　経験E=実際の天気,　性能基準P=実際の天気と天気予報とが合致しているか"
   ]
  },
  {
   "attachments": {},
   "cell_type": "markdown",
   "metadata": {},
   "source": [
    "<h1>Machine learning algorithms</h1>\n",
    "<h2>Supervised learning教師あり学習</h2>\n",
    "\n",
    "あるデータにおいてインプットとアウトプットの関係が明らかな場合。(「正しい答え」が与えられる場合)\n",
    "\n",
    "教師あり学習は、１）回帰分析 (regression)と２）分類 (classification)に分かれます。\n",
    "\n",
    "* 回帰分析 (regression) \n",
    " \n",
    " 例）人の写真を見て、その人の年齢（数値！）を予測。\n",
    " <img src=\"https://raw.githubusercontent.com/fengdu78/Coursera-ML-AndrewNg-Notes/master/images/2d99281dfc992452c9d32e022ce71161.png\"/>\n",
    " \n",
    " \n",
    "\n",
    "* 分類 (classification)  \n",
    "\n",
    " 例）人の写真を見て、その人に恋人がいるかどうか (いる、いないのカテゴリー！) を予測。\n",
    " <img src=\"https://raw.githubusercontent.com/fengdu78/Coursera-ML-AndrewNg-Notes/master/images/4f80108ebbb6707d39b7a6da4d2a7a4e.png\">\n",
    "\n",
    "\n",
    "<h2>Unsupervised learning教師なし学習</h2>\n",
    "\n",
    "\n",
    "教師なし学習ではデータセットとして「正しい答え」は与えられず、データセットが与えられるのみで、与えられたデータセットから、それを分類するアルゴリズムを予測する。\n",
    "\n",
    "* クラスタリング (clustering)\n",
    "\n",
    " 例）男性の新入社員500人の履歴書を、そこにある変数（専攻、学歴、職歴、趣味など）から、自動的に似た者同士のグループに仕分ける。\n",
    " <img src=\"https://raw.githubusercontent.com/fengdu78/Coursera-ML-AndrewNg-Notes/master/images/0c93b5efd5fd5601ed475d2c8a0e6dcd.png\">\n",
    " \n",
    " <img src=\"https://raw.githubusercontent.com/fengdu78/Coursera-ML-AndrewNg-Notes/master/images/94f0b1d26de3923fc4ae934ec05c66ab.png\">\n",
    "\n",
    "\n",
    "<h3>それ以外：</h3>\n",
    "* Reinforcement learning\n",
    "* recommender systems\n"
   ]
  },
  {
   "cell_type": "code",
   "execution_count": null,
   "metadata": {},
   "outputs": [],
   "source": []
  }
 ],
 "metadata": {
  "kernelspec": {
   "display_name": "Python 3",
   "language": "python",
   "name": "python3"
  },
  "language_info": {
   "codemirror_mode": {
    "name": "ipython",
    "version": 3
   },
   "file_extension": ".py",
   "mimetype": "text/x-python",
   "name": "python",
   "nbconvert_exporter": "python",
   "pygments_lexer": "ipython3",
   "version": "3.6.3"
  },
  "latex_envs": {
   "LaTeX_envs_menu_present": true,
   "autoclose": false,
   "autocomplete": true,
   "bibliofile": "biblio.bib",
   "cite_by": "apalike",
   "current_citInitial": 1,
   "eqLabelWithNumbers": true,
   "eqNumInitial": 1,
   "hotkeys": {
    "equation": "Ctrl-E",
    "itemize": "Ctrl-I"
   },
   "labels_anchors": false,
   "latex_user_defs": false,
   "report_style_numbering": false,
   "user_envs_cfg": false
  },
  "toc": {
   "base_numbering": 1,
   "nav_menu": {},
   "number_sections": true,
   "sideBar": true,
   "skip_h1_title": false,
   "title_cell": "Table of Contents",
   "title_sidebar": "Contents",
   "toc_cell": false,
   "toc_position": {},
   "toc_section_display": true,
   "toc_window_display": false
  }
 },
 "nbformat": 4,
 "nbformat_minor": 2
}
