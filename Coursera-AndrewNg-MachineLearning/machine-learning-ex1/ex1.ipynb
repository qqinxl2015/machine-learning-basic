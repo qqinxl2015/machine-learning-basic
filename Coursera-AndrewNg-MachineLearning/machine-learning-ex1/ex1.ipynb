{
 "cells": [
  {
   "cell_type": "code",
   "execution_count": 32,
   "metadata": {},
   "outputs": [
    {
     "name": "stdout",
     "output_type": "stream",
     "text": [
      "1.15.4\n",
      "2.1.1\n",
      "0.23.4\n"
     ]
    }
   ],
   "source": [
    "import numpy as np\n",
    "import matplotlib\n",
    "import pandas as pd\n",
    "import matplotlib.pyplot as plt\n",
    "from mpl_toolkits.mplot3d import Axes3D\n",
    "from pandas import Series,DataFrame\n",
    "\n",
    "print(np.version.full_version)\n",
    "print(matplotlib.__version__)\n",
    "print(pd.__version__)\n",
    "\n",
    "fig_size = plt.rcParams[\"figure.figsize\"]\n",
    "fig_size[0] = 10\n",
    "fig_size[1] = 6"
   ]
  },
  {
   "cell_type": "markdown",
   "metadata": {},
   "source": [
    "<b>単回帰分析　Linear Regression with One Variable</b>\n",
    "<hr/>\n",
    "<ul>\n",
    "<hr>\n",
    "<li>仮定関数 (Hypothesis function)：$h_\\theta \\left( x \\right)=\\theta_{0}+\\theta_{1}x$</li>\n",
    "<hr>\n",
    "<li>コスト関数（cost function）：$J \\left( \\theta_0, \\theta_1 \\right) = \\frac{1}{2m}\\sum\\limits_{i=1}^m \\left( h_{\\theta}(x^{(i)})-y^{(i)} \\right)^{2}$</li>\n",
    "<hr>\n",
    "<li>モデル式のパラメーター（\\(\\theta_0 \\)と\\(\\theta_1 \\)）の最適な値の求め方</li>\n",
    "</ul>\n",
    "\n",
    "<img src=\"./images/2c9fe871ca411ba557e65ac15d55745d.png\">\n"
   ]
  },
  {
   "cell_type": "markdown",
   "metadata": {},
   "source": [
    "<b>最急降下法　Gradient Descent</b>\n",
    "<hr/>\n",
    "$\\large {\\theta_{j}}:={\\theta_{j}}-\\alpha \\frac{\\partial }{\\partial {\\theta_{j}}}J\\left( \\theta \\right)$ （偏微分）\n",
    "\n",
    "$\\large a$:学習率 (learning rate)\n",
    "\n",
    "Correct: Simultaneous update {\n",
    "\n",
    "​ $temp0 :={\\theta_{0}}-\\alpha \\frac{\\partial }{\\partial {\\theta_{0}}}J\\left(\\theta_{0}, \\theta_{1} \\right)$\n",
    "\n",
    "​ $temp1 :={\\theta_{1}}-\\alpha \\frac{\\partial }{\\partial {\\theta_{1}}}J\\left(\\theta_{0}, \\theta_{1} \\right)$\n",
    "\n",
    "​ ${\\theta_{0}}:=temp0$\n",
    "\n",
    "​ ${\\theta_{1}}:=temp1$\n",
    "\n",
    "}\n",
    "\n",
    "<img src=\"./images/Gradient Descent.PNG\" width=\"500\">\n"
   ]
  },
  {
   "cell_type": "markdown",
   "metadata": {},
   "source": [
    "<b>Linear Regression with Gradient Descent</b>\n",
    "\n",
    "$\\frac{\\partial }{\\partial {{\\theta }{j}}}J({{\\theta }{0}},{{\\theta }{1}})=\\frac{\\partial }{\\partial {{\\theta }{j}}}\\frac{1}{2m}{{\\sum\\limits_{i=1}^{m}{\\left( {{h}_{\\theta }}({{x}^{(i)}})-{{y}^{(i)}} \\right)}}^{2}}$\n",
    "\n",
    "<br/>\n",
    "\n",
    "$j=0$ 时：$\\frac{\\partial }{\\partial {{\\theta }{0}}}J({{\\theta }{0}},{{\\theta }{1}})=\\frac{1}{m}{{\\sum\\limits_{i=1}^{m}{\\left( {{h}_{\\theta }}({{x}^{(i)}})-{{y}^{(i)}} \\right)}}}$\n",
    "\n",
    "$j=1$ 时：$\\frac{\\partial }{\\partial {{\\theta }{1}}}J({{\\theta }{0}},{{\\theta }{1}})=\\frac{1}{m}\\sum\\limits_{i=1}^{m}{\\left( \\left( {{h}_{\\theta }}({{x}^{(i)}})-{{y}^{(i)}} \\right)\\cdot {{x}^{(i)}} \\right)}$\n",
    "\n",
    "\n",
    "So, Repeat until convergence {\n",
    "\n",
    "​ ${\\theta_{0}}:={\\theta_{0}}-a\\frac{1}{m}\\sum\\limits_{i=1}^{m}{ \\left({{h}_{\\theta }}({{x}^{(i)}})-{{y}^{(i)}} \\right)}$\n",
    "\n",
    "​ ${\\theta_{1}}:={\\theta_{1}}-a\\frac{1}{m}\\sum\\limits_{i=1}^{m}{\\left( \\left({{h}_{\\theta }}({{x}^{(i)}})-{{y}^{(i)}} \\right)\\cdot {{x}^{(i)}} \\right)}$\n",
    "\n",
    "​ }"
   ]
  },
  {
   "cell_type": "code",
   "execution_count": 33,
   "metadata": {},
   "outputs": [
    {
     "data": {
      "text/plain": [
       "[<matplotlib.lines.Line2D at 0x16500860>]"
      ]
     },
     "execution_count": 33,
     "metadata": {},
     "output_type": "execute_result"
    },
    {
     "data": {
      "image/png": "[encoded data removed]",
      "text/plain": [
       "<matplotlib.figure.Figure at 0x160a7128>"
      ]
     },
     "metadata": {},
     "output_type": "display_data"
    }
   ],
   "source": [
    "data = np.loadtxt(\"./ex1/ex1data1.txt\", delimiter=\",\", skiprows=1)\n",
    "#data = np.loadtxt(\"./sample_data/01_data_01.csv\", delimiter=\",\", skiprows=1)\n",
    "plt.plot(data[:,0], data[:,1], 'rx', markersize=10)"
   ]
  },
  {
   "cell_type": "code",
   "execution_count": 34,
   "metadata": {},
   "outputs": [
    {
     "data": {
      "text/html": [
       "<div>\n",
       "<style scoped>\n",
       "    .dataframe tbody tr th:only-of-type {\n",
       "        vertical-align: middle;\n",
       "    }\n",
       "\n",
       "    .dataframe tbody tr th {\n",
       "        vertical-align: top;\n",
       "    }\n",
       "\n",
       "    .dataframe thead th {\n",
       "        text-align: right;\n",
       "    }\n",
       "</style>\n",
       "<table border=\"1\" class=\"dataframe\">\n",
       "  <thead>\n",
       "    <tr style=\"text-align: right;\">\n",
       "      <th></th>\n",
       "      <th>population</th>\n",
       "      <th>profit</th>\n",
       "    </tr>\n",
       "  </thead>\n",
       "  <tbody>\n",
       "    <tr>\n",
       "      <th>0</th>\n",
       "      <td>6.1101</td>\n",
       "      <td>17.5920</td>\n",
       "    </tr>\n",
       "    <tr>\n",
       "      <th>1</th>\n",
       "      <td>5.5277</td>\n",
       "      <td>9.1302</td>\n",
       "    </tr>\n",
       "    <tr>\n",
       "      <th>2</th>\n",
       "      <td>8.5186</td>\n",
       "      <td>13.6620</td>\n",
       "    </tr>\n",
       "    <tr>\n",
       "      <th>3</th>\n",
       "      <td>7.0032</td>\n",
       "      <td>11.8540</td>\n",
       "    </tr>\n",
       "    <tr>\n",
       "      <th>4</th>\n",
       "      <td>5.8598</td>\n",
       "      <td>6.8233</td>\n",
       "    </tr>\n",
       "  </tbody>\n",
       "</table>\n",
       "</div>"
      ],
      "text/plain": [
       "   population   profit\n",
       "0      6.1101  17.5920\n",
       "1      5.5277   9.1302\n",
       "2      8.5186  13.6620\n",
       "3      7.0032  11.8540\n",
       "4      5.8598   6.8233"
      ]
     },
     "execution_count": 34,
     "metadata": {},
     "output_type": "execute_result"
    }
   ],
   "source": [
    "df = pd.read_csv(\"./ex1/ex1data1.txt\", names=[\"population\", \"profit\"])#读取数据并赋予列名\n",
    "df.head()"
   ]
  },
  {
   "cell_type": "markdown",
   "metadata": {},
   "source": [
    "$\\large J(w_{0}, w_{1}) = \\frac{1}{2m} \\sum_{i=1}^m((w_{1}x+w_{0}) - y_{i})^{2}$"
   ]
  },
  {
   "cell_type": "code",
   "execution_count": 35,
   "metadata": {},
   "outputs": [
    {
     "name": "stdout",
     "output_type": "stream",
     "text": [
      "30.794957855345817\n"
     ]
    }
   ],
   "source": [
    "#コスト関数\n",
    "#w0,w1を決めて上、全部のコストを計算し合計する\n",
    "#J(w_{0}, w_{1}\n",
    "def cost(w0, w1, data):\n",
    "    cost = 0\n",
    "    for i in range(0, len(data)):\n",
    "        x = data[i, 0]\n",
    "        y = data[i, 1]\n",
    "        cost += ((w1 * x + w0) - y) ** 2\n",
    "        \n",
    "    cost = cost / (len(data) * 2)\n",
    "    return cost\n",
    "\n",
    "print(cost(0,0,data))"
   ]
  },
  {
   "cell_type": "markdown",
   "metadata": {},
   "source": [
    "<ul>\n",
    "<li>最急降下法の数式：<br><br>\n",
    "\\(\\large w_{0} := w_{0} - \\alpha\\frac{1}{m}\\sum_{i=1}^m(\\hat y_{i} - y_{i}) \\)<br><br>\n",
    "\\(\\large w_{1} := w_{1} - \\alpha\\frac{1}{m}\\sum_{i=1}^m(\\hat y_{i} - y_{i})\\cdot x_{i} \\)\n",
    "</li>\n",
    "<hr>\n",
    "</ul>\n"
   ]
  },
  {
   "cell_type": "code",
   "execution_count": 36,
   "metadata": {},
   "outputs": [
    {
     "name": "stdout",
     "output_type": "stream",
     "text": [
      "[0.5716709375000003, 6.488968277207291]\n"
     ]
    }
   ],
   "source": [
    "#最急降下法\n",
    "def gradientDescent(w0_in, w1_in, data, alpha):\n",
    "    w0_gradient = 0\n",
    "    w1_gradient = 0\n",
    "    m = float(len(data))\n",
    "    \n",
    "    for i in range(0, len(data)):\n",
    "        x = data[i, 0]\n",
    "        y = data[i, 1]\n",
    "        \n",
    "        \n",
    "        w0_gradient += (1/m) * (((w1_in * x) + w0_in) - y)\n",
    "        w1_gradient += (1/m) * ((((w1_in * x) + w0_in) - y) * x)\n",
    "    \n",
    "    w0_out = w0_in - (alpha * w0_gradient)\n",
    "    w1_out = w1_in - (alpha * w1_gradient)\n",
    "    return [w0_out, w1_out]\n",
    "\n",
    "print(gradientDescent(0,0, data, 0.1))"
   ]
  },
  {
   "cell_type": "code",
   "execution_count": 37,
   "metadata": {},
   "outputs": [
    {
     "name": "stdout",
     "output_type": "stream",
     "text": [
      "-4.210994194448205 1.2134961922404424\n"
     ]
    }
   ],
   "source": [
    "def run(data, init_w0, init_w1, alpha, iterations):\n",
    "    w0 = init_w0\n",
    "    w1 = init_w1\n",
    "    for i in range(iterations):\n",
    "        w0, w1 = gradientDescent(w0,w1,np.array(data), alpha)\n",
    "    return [w0,w1]\n",
    "\n",
    "alpha = 0.01\n",
    "init_w0, init_w1 = 0,0 \n",
    "iterations = 5000\n",
    "\n",
    "w0, w1 = run(data, init_w0, init_w1, alpha, iterations)\n",
    "print(w0, w1)"
   ]
  },
  {
   "cell_type": "code",
   "execution_count": 38,
   "metadata": {},
   "outputs": [
    {
     "data": {
      "image/png": "[encoded data removed]",
      "text/plain": [
       "<matplotlib.figure.Figure at 0x16510a58>"
      ]
     },
     "metadata": {},
     "output_type": "display_data"
    }
   ],
   "source": [
    "# 動画内のコード\n",
    "plt.plot(data[:, 0],data[:, 1], 'rx', markersize=10, label='Training')\n",
    "plt.xlabel('Study Hours')\n",
    "plt.ylabel('Test Scores')\n",
    "\n",
    "plt.plot(data[:, 0],data[:, 0] * w1 + w0,'-', label='Linear regression')\n",
    "plt.legend()\n",
    "plt.show()"
   ]
  },
  {
   "cell_type": "markdown",
   "metadata": {},
   "source": [
    "<b>重回帰分析　Linear Regression with Multiple Variables</b>\n",
    "<hr/>\n",
    "\n",
    "$\\large h_{\\theta}\\left( x \\right)={\\theta_{0}}+{\\theta_{1}}{x_{1}}+{\\theta_{2}}{x_{2}}+...+{\\theta_{n}}{x_{n}}$\n",
    "\n",
    "$\\large h_{\\theta}\\left( x \\right) = \\theta^T X$\n",
    "\n",
    "$\\theta = \\begin{bmatrix}{\\theta_{0}} \\newline {\\theta_{1}} \\newline \\vdots \\newline {\\theta_{n}}\\end{bmatrix}$\n",
    "\n",
    "$X = \\begin{bmatrix}x_0 \\newline x_1 \\newline \\vdots \\newline x_n\\end{bmatrix}$\n",
    "\n",
    "<b>目的関数 (Cost Function)</b>\n",
    "<hr/>\n",
    "$\\large J\\left( {\\theta_{0}},{\\theta_{1}}...{\\theta_{n}} \\right)=\\frac{1}{2m}\\sum\\limits_{i=1}^{m}{{{\\left( h_{\\theta} \\left({x}^{\\left( i \\right)} \\right)-{y}^{\\left( i \\right)} \\right)}^{2}}}$ \n",
    "\n",
    "<b>最急降下法　Gradient Descent for Multiple Variables</b>\n",
    "\n",
    "$\\large \\theta_j := \\theta_j - \\alpha\\frac{\\partial}{\\partial \\theta_j}J(\\theta)\n",
    "             = \\theta_j - \\alpha \\sum_{i=1}^m (h_\\theta (x^{(i)}) - y^{(i)}) x_j ^{(i)}$\n",
    "\n",
    "$\\begin{align*} & \\text{repeat until convergence:} \\; \\lbrace \\newline \\; & \\theta_0 := \\theta_0 - \\alpha \\frac{1}{m} \\sum\\limits_{i=1}^{m} (h_\\theta(x^{(i)}) - y^{(i)}) \\cdot x_0^{(i)}\\newline \\; & \\theta_1 := \\theta_1 - \\alpha \\frac{1}{m} \\sum\\limits_{i=1}^{m} (h_\\theta(x^{(i)}) - y^{(i)}) \\cdot x_1^{(i)} \\newline \\; & \\theta_2 := \\theta_2 - \\alpha \\frac{1}{m} \\sum\\limits_{i=1}^{m} (h_\\theta(x^{(i)}) - y^{(i)}) \\cdot x_2^{(i)} \\newline & \\cdots \\newline \\rbrace \\end{align*}$\n",
    "\n",
    "\n"
   ]
  },
  {
   "cell_type": "code",
   "execution_count": 39,
   "metadata": {},
   "outputs": [
    {
     "name": "stdout",
     "output_type": "stream",
     "text": [
      "99\n",
      "x=[64 67 69], y= 68\n",
      "x=[74 74 63], y= 67\n",
      "x=[60 59 55], y= 57\n",
      "x=[84 88 89], y= 91\n",
      "x=[80 88 78], y= 82\n",
      "x=[75 68 68], y= 63\n",
      "x=[66 59 55], y= 65\n",
      "x=[77 71 66], y= 73\n",
      "x=[70 71 60], y= 67\n",
      "x=[89 84 80], y= 85\n"
     ]
    }
   ],
   "source": [
    "data = np.loadtxt('./sample_data/01_data_02.csv', delimiter=\",\", skiprows=1)\n",
    "\n",
    "X = data[:,:3]\n",
    "Y = data[:,3]\n",
    "m = len(Y)\n",
    "print(m)\n",
    "#データの確認\n",
    "for i in range(10):\n",
    "    print(\"x=[{:.0f} {:.0f} {:.0f}], y= {:.0f}\".format(X[i,0], X[i,1], X[i,2], Y[i]))"
   ]
  },
  {
   "cell_type": "code",
   "execution_count": 40,
   "metadata": {},
   "outputs": [
    {
     "data": {
      "image/png": "[encoded data removed]",
      "text/plain": [
       "<matplotlib.figure.Figure at 0x16725048>"
      ]
     },
     "metadata": {},
     "output_type": "display_data"
    }
   ],
   "source": [
    "flg = plt.figure()\n",
    "ax = flg.gca(projection='3d')    # <- axes3dをインポートしていないとエラーになる。\n",
    "ax.set_xlabel('Pysics')\n",
    "ax.set_ylabel('Science')\n",
    "ax.set_zlabel('Math')\n",
    "scatter = ax.scatter3D(data[:,0], data[:,1], data[:,3],\n",
    "                       s=5,                    # マーカーのサイズ\n",
    "                       #c=Z,                    # 色分けに使う数値（任意の数値を指定可）\n",
    "                       cmap=plt.cm.viridis)    # 色のパターン\n",
    "#plt.colorbar(scatter)                          # カラーバーを表示（省略可）\n",
    "plt.show()"
   ]
  },
  {
   "cell_type": "markdown",
   "metadata": {},
   "source": [
    "<b>スケーリング (feature scaling)</b>\n",
    "\n",
    "$\\large x_i = \\frac{x_i - mean(x)}{SD(x)}$ （$SD(x)$ は$x$の標準偏差）\n",
    "\n",
    "或いは\n",
    "\n",
    "$\\large x_i = \\frac{x_i - mean(x)}{max(x) - min(x)}$\n",
    "\n"
   ]
  },
  {
   "cell_type": "code",
   "execution_count": 45,
   "metadata": {},
   "outputs": [
    {
     "name": "stdout",
     "output_type": "stream",
     "text": [
      "x=[-1.2809505655475366 -0.7620279403142349 -0.45626448584461704], y= 68\n",
      "x=[-0.10238080728353877 -0.05223578623121775 -1.0026780031665978], y= 67\n",
      "x=[-1.7523784688531356 -1.5732189735519688 -1.7312293595959056], y= 57\n",
      "x=[1.076188950980459 1.3673485219348165 1.3651139052286525], y= 91\n",
      "x=[0.6047610476748599 1.3673485219348165 0.36335579013835423], y= 82\n",
      "x=[0.015476168542861017 -0.6606290611595181 -0.5473334053982805], y= 63\n",
      "x=[-1.0452366138947369 -1.5732189735519688 -1.7312293595959056], y= 65\n",
      "x=[0.25119012019566056 -0.35643242369536793 -0.7294712445056074], y= 73\n",
      "x=[-0.5738087105891378 -0.35643242369536793 -1.2758847618275884], y= 67\n",
      "x=[1.6654738301124579 0.9617530053159495 0.5454936292456812], y= 85\n",
      "(99, 3)\n"
     ]
    }
   ],
   "source": [
    "#標準化（Z-socre Normalization）\n",
    "def norm(X):\n",
    "    X_norm = np.zeros((X.shape[0], X.shape[1]))\n",
    "    mean = np.zeros((1, X.shape[1]))\n",
    "    std = np.zeros((1, X.shape[1]))\n",
    "    for i in range(X.shape[1]):      \n",
    "        mean[:, i] = np.mean(X[:, i])\n",
    "        std[:, i] = np.std(X[:, i])      \n",
    "        X_norm[:,i] = (X[:,i] - float(mean[:, i]))/ float(std[:,i])        \n",
    "    return X_norm, mean, std\n",
    "\n",
    "X_norm, mean, std = norm(X)\n",
    "#データの確認\n",
    "for i in range(10):\n",
    "    print(\"x=[{} {} {}], y= {:.0f}\".format(X_norm[i,0], X_norm[i,1], X_norm[i,2], Y[i]))\n",
    "\n",
    "print(X_norm.shape)"
   ]
  },
  {
   "cell_type": "code",
   "execution_count": 46,
   "metadata": {},
   "outputs": [
    {
     "data": {
      "text/plain": [
       "array([[ 1.        , -1.28095057, -0.76202794, -0.45626449],\n",
       "       [ 1.        , -0.10238081, -0.05223579, -1.002678  ],\n",
       "       [ 1.        , -1.75237847, -1.57321897, -1.73122936],\n",
       "       [ 1.        ,  1.07618895,  1.36734852,  1.36511391],\n",
       "       [ 1.        ,  0.60476105,  1.36734852,  0.36335579]])"
      ]
     },
     "execution_count": 46,
     "metadata": {},
     "output_type": "execute_result"
    }
   ],
   "source": [
    "X_padded = np.column_stack((np.ones((len(Y),1)), X_norm))\n",
    "X_padded[0:5,:]"
   ]
  },
  {
   "cell_type": "code",
   "execution_count": 48,
   "metadata": {},
   "outputs": [
    {
     "name": "stdout",
     "output_type": "stream",
     "text": [
      "[[1541.34609465]]\n"
     ]
    }
   ],
   "source": [
    "def cost2(X, Y, W):\n",
    "    m = len(Y)\n",
    "    J = 0\n",
    "    #y_h = X.dot(weightW\n",
    "    y_h = np.dot(X, W)\n",
    "    #y_shaped = np.transpose([Y])\n",
    "    y_shaped = Y.reshape(m,1)\n",
    "    #diff = np.power((y_h - y_shaped), 2)\n",
    "    #J = (1.0/(2*m))* diff.sum(axis=0)\n",
    "    delta= np.dot((y_h - y_shaped).T, (y_h - y_shaped))\n",
    "    J = delta /(m * 2)\n",
    "    return J\n",
    "print(cost2(X_padded, Y, np.array([[20],[10],[5],[-1]])))"
   ]
  },
  {
   "cell_type": "markdown",
   "metadata": {},
   "source": [
    "最急降下法（ベクトル化）\n",
    "\n",
    "\\(\\large {\\theta} := {\\theta} - \\alpha\\frac{1}{m}X^{T}(X{\\theta} - y) \\)"
   ]
  },
  {
   "cell_type": "code",
   "execution_count": 51,
   "metadata": {},
   "outputs": [],
   "source": [
    "#最急降下法\n",
    "def gradientDescent2(X, Y, W, alpha, iterations):\n",
    "    m = len(Y)\n",
    "    J_history = np.zeros((iterations, 1))\n",
    "    \n",
    "    for i in range(iterations):\n",
    "        W = W - alpha * (1.0/m)* np.transpose(X). dot(X.dot(W) - np.transpose([Y]))\n",
    "        J_history[i] = cost2(X,Y, W)            \n",
    "    return W, J_history"
   ]
  },
  {
   "cell_type": "code",
   "execution_count": 54,
   "metadata": {},
   "outputs": [
    {
     "name": "stdout",
     "output_type": "stream",
     "text": [
      "[[0.]\n",
      " [0.]\n",
      " [0.]\n",
      " [0.]]\n",
      "[[74.57745626]\n",
      " [ 2.22894853]\n",
      " [ 5.45280885]\n",
      " [ 3.22092053]]\n"
     ]
    }
   ],
   "source": [
    "W_int = np.zeros((X.shape[1]+1,1))\n",
    "print(W_int)\n",
    "W, J_history = gradientDescent2(X_padded, Y , W_int, 0.01, 500)\n",
    "print(W)"
   ]
  },
  {
   "cell_type": "code",
   "execution_count": 53,
   "metadata": {},
   "outputs": [
    {
     "data": {
      "image/png": "[encoded data removed]",
      "text/plain": [
       "<matplotlib.figure.Figure at 0x170f7470>"
      ]
     },
     "metadata": {},
     "output_type": "display_data"
    }
   ],
   "source": [
    "flg = plt.figure()\n",
    "plt.plot(range(J_history.size), J_history, \"-b\", linewidth=1)\n",
    "plt.xlabel('Number of iterations')\n",
    "plt.ylabel('Cost_J')\n",
    "plt.grid(True)\n",
    "plt.show()"
   ]
  },
  {
   "cell_type": "code",
   "execution_count": 55,
   "metadata": {},
   "outputs": [
    {
     "data": {
      "text/plain": [
       "(array([75.07070707,  0.58230097,  7.63376762,  2.62913908]),\n",
       " array([2116.3708118]),\n",
       " 4,\n",
       " array([16.19317817,  9.94987437,  4.80489624,  3.41964224]))"
      ]
     },
     "execution_count": 55,
     "metadata": {},
     "output_type": "execute_result"
    }
   ],
   "source": [
    "#NumPyで解く\n",
    "np.linalg.lstsq(np.vstack([np.ones(X_norm.shape[0]), np.vstack(X_norm).T]).T, Y, rcond=None)"
   ]
  },
  {
   "cell_type": "code",
   "execution_count": null,
   "metadata": {},
   "outputs": [],
   "source": []
  },
  {
   "cell_type": "markdown",
   "metadata": {},
   "source": [
    "<b>Normal Equation</b>\n",
    "<hr/>\n",
    "\n",
    "$\\theta ={{\\left( {X^T}X \\right)}^{-1}}{X^{T}}y$ \n",
    "\n",
    "<img src=\"./images/333df5f11086fee19c4fb81bc34d5125.png\">\n"
   ]
  },
  {
   "cell_type": "code",
   "execution_count": null,
   "metadata": {},
   "outputs": [],
   "source": []
  }
 ],
 "metadata": {
  "kernelspec": {
   "display_name": "Python 3",
   "language": "python",
   "name": "python3"
  },
  "language_info": {
   "codemirror_mode": {
    "name": "ipython",
    "version": 3
   },
   "file_extension": ".py",
   "mimetype": "text/x-python",
   "name": "python",
   "nbconvert_exporter": "python",
   "pygments_lexer": "ipython3",
   "version": "3.6.3"
  },
  "latex_envs": {
   "LaTeX_envs_menu_present": true,
   "autoclose": false,
   "autocomplete": true,
   "bibliofile": "biblio.bib",
   "cite_by": "apalike",
   "current_citInitial": 1,
   "eqLabelWithNumbers": true,
   "eqNumInitial": 1,
   "hotkeys": {
    "equation": "Ctrl-E",
    "itemize": "Ctrl-I"
   },
   "labels_anchors": false,
   "latex_user_defs": false,
   "report_style_numbering": false,
   "user_envs_cfg": false
  },
  "toc": {
   "base_numbering": 1,
   "nav_menu": {},
   "number_sections": true,
   "sideBar": true,
   "skip_h1_title": false,
   "title_cell": "Table of Contents",
   "title_sidebar": "Contents",
   "toc_cell": false,
   "toc_position": {},
   "toc_section_display": true,
   "toc_window_display": false
  }
 },
 "nbformat": 4,
 "nbformat_minor": 2
}
