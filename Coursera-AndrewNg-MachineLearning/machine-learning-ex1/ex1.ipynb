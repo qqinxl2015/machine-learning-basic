{
 "cells": [
  {
   "cell_type": "code",
   "execution_count": 2,
   "metadata": {},
   "outputs": [
    {
     "name": "stdout",
     "output_type": "stream",
     "text": [
      "1.15.4\n",
      "3.0.2\n",
      "0.23.4\n"
     ]
    }
   ],
   "source": [
    "import numpy as np\n",
    "import matplotlib\n",
    "import pandas as pd\n",
    "import matplotlib.pyplot as plt\n",
    "\n",
    "print(np.version.full_version)\n",
    "print(matplotlib.__version__)\n",
    "print(pd.__version__)"
   ]
  },
  {
   "cell_type": "markdown",
   "metadata": {},
   "source": [
    "<b>Linear Regression with One Variable</b>\n",
    "<hr/>\n",
    "<ul>\n",
    "<hr>\n",
    "<li>線形モデルの数式：$h_\\theta \\left( x \\right)=\\theta_{0}+\\theta_{1}x$</li>\n",
    "<hr>\n",
    "<li>コスト関数：$J \\left( \\theta_0, \\theta_1 \\right) = \\frac{1}{2m}\\sum\\limits_{i=1}^m \\left( h_{\\theta}(x^{(i)})-y^{(i)} \\right)^{2}$</li>\n",
    "<hr>\n",
    "<li>モデル式のパラメーター（\\(\\theta_0 \\)と\\(\\theta_1 \\)）の最適な値の求め方</li>\n",
    "</ul>\n",
    "\n",
    "<img src=\"./images/2c9fe871ca411ba557e65ac15d55745d.png\">\n"
   ]
  },
  {
   "cell_type": "markdown",
   "metadata": {},
   "source": [
    "<b>Gradient Descent</b>\n",
    "<hr/>\n",
    "$\\large {\\theta_{j}}:={\\theta_{j}}-\\alpha \\frac{\\partial }{\\partial {\\theta_{j}}}J\\left( \\theta \\right)$ \n",
    "\n",
    "$\\large a$:learning rate\n",
    "\n",
    "Correct: Simultaneous update {\n",
    "\n",
    "​ $temp0 :={\\theta_{0}}-\\alpha \\frac{\\partial }{\\partial {\\theta_{0}}}J\\left(\\theta_{0}, \\theta_{1} \\right)$\n",
    "\n",
    "​ $temp1 :={\\theta_{1}}-\\alpha \\frac{\\partial }{\\partial {\\theta_{1}}}J\\left(\\theta_{0}, \\theta_{1} \\right)$\n",
    "\n",
    "​ ${\\theta_{0}}:=temp0$\n",
    "\n",
    "​ ${\\theta_{1}}:=temp1$\n",
    "\n",
    "}\n",
    "\n",
    "<img src=\"./images/Gradient Descent.PNG\" width=\"500\">\n"
   ]
  },
  {
   "cell_type": "markdown",
   "metadata": {},
   "source": [
    "<b><b>Linear Regression with Gradient Descent</b>\n",
    "\n",
    "$\\frac{\\partial }{\\partial {{\\theta }{j}}}J({{\\theta }{0}},{{\\theta }{1}})=\\frac{\\partial }{\\partial {{\\theta }{j}}}\\frac{1}{2m}{{\\sum\\limits_{i=1}^{m}{\\left( {{h}_{\\theta }}({{x}^{(i)}})-{{y}^{(i)}} \\right)}}^{2}}$\n",
    "\n",
    "<br/>\n",
    "\n",
    "$j=0$ 时：$\\frac{\\partial }{\\partial {{\\theta }{0}}}J({{\\theta }{0}},{{\\theta }{1}})=\\frac{1}{m}{{\\sum\\limits_{i=1}^{m}{\\left( {{h}_{\\theta }}({{x}^{(i)}})-{{y}^{(i)}} \\right)}}}$\n",
    "\n",
    "$j=1$ 时：$\\frac{\\partial }{\\partial {{\\theta }{1}}}J({{\\theta }{0}},{{\\theta }{1}})=\\frac{1}{m}\\sum\\limits_{i=1}^{m}{\\left( \\left( {{h}_{\\theta }}({{x}^{(i)}})-{{y}^{(i)}} \\right)\\cdot {{x}^{(i)}} \\right)}$\n",
    "\n",
    "\n",
    "So, Repeat until convergence {\n",
    "\n",
    "​ ${\\theta_{0}}:={\\theta_{0}}-a\\frac{1}{m}\\sum\\limits_{i=1}^{m}{ \\left({{h}_{\\theta }}({{x}^{(i)}})-{{y}^{(i)}} \\right)}$\n",
    "\n",
    "​ ${\\theta_{1}}:={\\theta_{1}}-a\\frac{1}{m}\\sum\\limits_{i=1}^{m}{\\left( \\left({{h}_{\\theta }}({{x}^{(i)}})-{{y}^{(i)}} \\right)\\cdot {{x}^{(i)}} \\right)}$\n",
    "\n",
    "​ }"
   ]
  },
  {
   "cell_type": "code",
   "execution_count": 3,
   "metadata": {},
   "outputs": [
    {
     "data": {
      "text/plain": [
       "[<matplotlib.lines.Line2D at 0x8453ef0>]"
      ]
     },
     "execution_count": 3,
     "metadata": {},
     "output_type": "execute_result"
    },
    {
     "data": {
      "image/png": "[encoded data removed]",
      "text/plain": [
       "<Figure size 432x288 with 1 Axes>"
      ]
     },
     "metadata": {
      "needs_background": "light"
     },
     "output_type": "display_data"
    }
   ],
   "source": [
    "data = np.loadtxt(\"./data/01-01.csv\", delimiter=\",\", skiprows=1)\n",
    "plt.plot(data[:,0], data[:,1], 'rx', markersize=10, label=\"Test\")"
   ]
  },
  {
   "cell_type": "markdown",
   "metadata": {},
   "source": [
    "$\\large J(w_{0}, w_{1}) = \\frac{1}{2m} \\sum_{i=1}^m((w_{1}x+w_{0}) - y_{i})^{2}$"
   ]
  },
  {
   "cell_type": "code",
   "execution_count": 4,
   "metadata": {},
   "outputs": [
    {
     "name": "stdout",
     "output_type": "stream",
     "text": [
      "3128.3979591836733\n"
     ]
    }
   ],
   "source": [
    "#コスト関数\n",
    "def cost(w0, w1, data):\n",
    "    cost = 0\n",
    "    for i in range(0, len(data)):\n",
    "        x = data[i, 0]\n",
    "        y = data[i, 1]\n",
    "        cost += ((w1 * x + w0) - y) ** 2\n",
    "    cost = cost / (len(data) * 2)\n",
    "    return cost\n",
    "\n",
    "print(cost(0,0,data))"
   ]
  },
  {
   "cell_type": "markdown",
   "metadata": {},
   "source": [
    "<ul>\n",
    "<li>最急降下法の数式：<br><br>\n",
    "\\(\\large w_{0} := w_{0} - \\alpha\\frac{1}{m}\\sum_{i=1}^m(\\hat y_{i} - y_{i}) \\)<br><br>\n",
    "\\(\\large w_{1} := w_{1} - \\alpha\\frac{1}{m}\\sum_{i=1}^m(\\hat y_{i} - y_{i})\\cdot x_{i} \\)\n",
    "</li>\n",
    "<hr>\n",
    "</ul>\n"
   ]
  },
  {
   "cell_type": "code",
   "execution_count": 5,
   "metadata": {},
   "outputs": [
    {
     "name": "stdout",
     "output_type": "stream",
     "text": [
      "(7.822448979591835, 40.169183673469384)\n"
     ]
    }
   ],
   "source": [
    "#最急降下法\n",
    "def gradientDesent(w0_in, w1_in, data, alpha):\n",
    "    w0_gradient = 0\n",
    "    w1_gradient = 0\n",
    "    m = float(len(data))\n",
    "    \n",
    "    for i in range(0, len(data)):\n",
    "        x = data[i, 0]\n",
    "        y = data[i, 1]\n",
    "        w0_gradient += (1/m) * (((w1_in * x) + w0_in) - y)\n",
    "        w1_gradient += (1/m) * ((((w1_in * x) + w0_in) - y) * x)\n",
    "    \n",
    "    w0_out = w0_in - (alpha * w0_gradient)\n",
    "    w1_out = w1_in - (alpha * w1_gradient)\n",
    "    return w0_out, w1_out\n",
    "print(gradientDesent(0,0, data, 0.1))"
   ]
  },
  {
   "cell_type": "code",
   "execution_count": 6,
   "metadata": {},
   "outputs": [
    {
     "name": "stdout",
     "output_type": "stream",
     "text": [
      "(0, 14.07026949746229)\n"
     ]
    }
   ],
   "source": [
    "def run(data, iterations=1000, init_w0=0, init_w1=0, alpha=0.01):\n",
    "    w0 = init_w0\n",
    "    w1 = init_w1\n",
    "    for i in range(iterations):\n",
    "        wo, w1 = gradientDesent(w0, w1, np.array(data), alpha)\n",
    "    return w0, w1\n",
    "\n",
    "print(run(data, 5000))"
   ]
  },
  {
   "cell_type": "markdown",
   "metadata": {},
   "source": [
    "<b>Linear Regression with Multiple Variables</b>\n",
    "<hr/>\n",
    "\n",
    "$\\large h_{\\theta}\\left( x \\right)={\\theta_{0}}+{\\theta_{1}}{x_{1}}+{\\theta_{2}}{x_{2}}+...+{\\theta_{n}}{x_{n}}$，\n",
    "\n",
    "\n",
    "$\\large ⇒ \\begin{align*}h_\\theta(x) =\\begin{bmatrix}\\theta_0 \\hspace{2em} \\theta_1 \\hspace{2em} ... \\hspace{2em} \\theta_n\\end{bmatrix}\\begin{bmatrix}x_0 \\newline x_1 \\newline \\vdots \\newline x_n\\end{bmatrix}= \\theta^T x\\end{align*}$\n",
    "\n",
    "\n",
    "<b>Gradient Descent for Multiple Variables</b>\n",
    "<hr/>\n",
    "$\\large J\\left( {\\theta_{0}},{\\theta_{1}}...{\\theta_{n}} \\right)=\\frac{1}{2m}\\sum\\limits_{i=1}^{m}{{{\\left( h_{\\theta} \\left({x}^{\\left( i \\right)} \\right)-{y}^{\\left( i \\right)} \\right)}^{2}}}$ \n",
    "\n",
    "\n",
    "$\\begin{align*} & \\text{repeat until convergence:} \\; \\lbrace \\newline \\; & \\theta_0 := \\theta_0 - \\alpha \\frac{1}{m} \\sum\\limits_{i=1}^{m} (h_\\theta(x^{(i)}) - y^{(i)}) \\cdot x_0^{(i)}\\newline \\; & \\theta_1 := \\theta_1 - \\alpha \\frac{1}{m} \\sum\\limits_{i=1}^{m} (h_\\theta(x^{(i)}) - y^{(i)}) \\cdot x_1^{(i)} \\newline \\; & \\theta_2 := \\theta_2 - \\alpha \\frac{1}{m} \\sum\\limits_{i=1}^{m} (h_\\theta(x^{(i)}) - y^{(i)}) \\cdot x_2^{(i)} \\newline & \\cdots \\newline \\rbrace \\end{align*}$"
   ]
  },
  {
   "cell_type": "code",
   "execution_count": null,
   "metadata": {},
   "outputs": [],
   "source": []
  },
  {
   "cell_type": "code",
   "execution_count": null,
   "metadata": {},
   "outputs": [],
   "source": []
  },
  {
   "cell_type": "markdown",
   "metadata": {},
   "source": [
    "<b>Normal Equation</b>\n",
    "<hr/>\n",
    "\n",
    "$\\theta ={{\\left( {X^T}X \\right)}^{-1}}{X^{T}}y$ \n",
    "\n",
    "<img src=\"./images/333df5f11086fee19c4fb81bc34d5125.png\">\n"
   ]
  },
  {
   "cell_type": "code",
   "execution_count": null,
   "metadata": {},
   "outputs": [],
   "source": []
  }
 ],
 "metadata": {
  "kernelspec": {
   "display_name": "Python 3",
   "language": "python",
   "name": "python3"
  },
  "language_info": {
   "codemirror_mode": {
    "name": "ipython",
    "version": 3
   },
   "file_extension": ".py",
   "mimetype": "text/x-python",
   "name": "python",
   "nbconvert_exporter": "python",
   "pygments_lexer": "ipython3",
   "version": "3.7.1"
  }
 },
 "nbformat": 4,
 "nbformat_minor": 2
}
