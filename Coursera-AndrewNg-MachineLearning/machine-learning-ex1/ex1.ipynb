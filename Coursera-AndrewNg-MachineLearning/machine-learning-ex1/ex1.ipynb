{
 "cells": [
  {
   "cell_type": "code",
   "execution_count": 1,
   "metadata": {},
   "outputs": [
    {
     "name": "stdout",
     "output_type": "stream",
     "text": [
      "1.15.4\n",
      "2.1.1\n",
      "0.23.4\n"
     ]
    }
   ],
   "source": [
    "import numpy as np\n",
    "import matplotlib\n",
    "import pandas as pd\n",
    "import matplotlib.pyplot as plt\n",
    "from mpl_toolkits.mplot3d import Axes3D\n",
    "from pandas import Series,DataFrame\n",
    "from matplotlib import cm\n",
    "\n",
    "print(np.version.full_version)\n",
    "print(matplotlib.__version__)\n",
    "print(pd.__version__)\n",
    "\n",
    "fig_size = plt.rcParams[\"figure.figsize\"]\n",
    "fig_size[0] = 10\n",
    "fig_size[1] = 6"
   ]
  },
  {
   "cell_type": "markdown",
   "metadata": {},
   "source": [
    "<b>単回帰分析　Linear Regression with One Variable</b>\n",
    "<hr/>\n",
    "<ul>\n",
    "<hr>\n",
    "<li>仮定関数 (Hypothesis function)：$h_\\theta \\left( x \\right)=\\theta_{0}+\\theta_{1}x$</li>\n",
    "<hr>\n",
    "<li>コスト関数（cost function）：$J \\left( \\theta_0, \\theta_1 \\right) = \\frac{1}{2m}\\sum\\limits_{i=1}^m \\left( h_{\\theta}(x^{(i)})-y^{(i)} \\right)^{2}$</li>\n",
    "<hr>\n",
    "<li>モデル式のパラメーター（\\(\\theta_0 \\)と\\(\\theta_1 \\)）の最適な値の求め方</li>\n",
    "</ul>\n",
    "\n",
    "<img src=\"./images/2c9fe871ca411ba557e65ac15d55745d.png\">\n"
   ]
  },
  {
   "cell_type": "markdown",
   "metadata": {},
   "source": [
    "<b>最急降下法　Gradient Descent</b>\n",
    "<hr/>\n",
    "$\\large {\\theta_{j}}:={\\theta_{j}}-\\alpha \\frac{\\partial }{\\partial {\\theta_{j}}}J\\left( \\theta \\right)$ （偏微分）\n",
    "\n",
    "$\\large a$:学習率 (learning rate)\n",
    "\n",
    "Correct: Simultaneous update {\n",
    "\n",
    "​ $temp0 :={\\theta_{0}}-\\alpha \\frac{\\partial }{\\partial {\\theta_{0}}}J\\left(\\theta_{0}, \\theta_{1} \\right)$\n",
    "\n",
    "​ $temp1 :={\\theta_{1}}-\\alpha \\frac{\\partial }{\\partial {\\theta_{1}}}J\\left(\\theta_{0}, \\theta_{1} \\right)$\n",
    "\n",
    "​ ${\\theta_{0}}:=temp0$\n",
    "\n",
    "​ ${\\theta_{1}}:=temp1$\n",
    "\n",
    "}\n",
    "\n",
    "<img src=\"./images/Gradient Descent.PNG\" width=\"500\">\n"
   ]
  },
  {
   "cell_type": "markdown",
   "metadata": {},
   "source": [
    "<b>Linear Regression with Gradient Descent</b>\n",
    "\n",
    "$\\frac{\\partial }{\\partial {{\\theta }{j}}}J({{\\theta }{0}},{{\\theta }{1}})=\\frac{\\partial }{\\partial {{\\theta }{j}}}\\frac{1}{2m}{{\\sum\\limits_{i=1}^{m}{\\left( {{h}_{\\theta }}({{x}^{(i)}})-{{y}^{(i)}} \\right)}}^{2}}$\n",
    "\n",
    "<br/>\n",
    "\n",
    "$j=0$ 时：$\\frac{\\partial }{\\partial {{\\theta }{0}}}J({{\\theta }{0}},{{\\theta }{1}})=\\frac{1}{m}{{\\sum\\limits_{i=1}^{m}{\\left( {{h}_{\\theta }}({{x}^{(i)}})-{{y}^{(i)}} \\right)}}}$\n",
    "\n",
    "$j=1$ 时：$\\frac{\\partial }{\\partial {{\\theta }{1}}}J({{\\theta }{0}},{{\\theta }{1}})=\\frac{1}{m}\\sum\\limits_{i=1}^{m}{\\left( \\left( {{h}_{\\theta }}({{x}^{(i)}})-{{y}^{(i)}} \\right)\\cdot {{x}^{(i)}} \\right)}$\n",
    "\n",
    "\n",
    "So, Repeat until convergence {\n",
    "\n",
    "​ ${\\theta_{0}}:={\\theta_{0}}-a\\frac{1}{m}\\sum\\limits_{i=1}^{m}{ \\left({{h}_{\\theta }}({{x}^{(i)}})-{{y}^{(i)}} \\right)}$\n",
    "\n",
    "​ ${\\theta_{1}}:={\\theta_{1}}-a\\frac{1}{m}\\sum\\limits_{i=1}^{m}{\\left( \\left({{h}_{\\theta }}({{x}^{(i)}})-{{y}^{(i)}} \\right)\\cdot {{x}^{(i)}} \\right)}$\n",
    "\n",
    "​ }"
   ]
  },
  {
   "cell_type": "code",
   "execution_count": 9,
   "metadata": {},
   "outputs": [
    {
     "data": {
      "text/html": [
       "<div>\n",
       "<style scoped>\n",
       "    .dataframe tbody tr th:only-of-type {\n",
       "        vertical-align: middle;\n",
       "    }\n",
       "\n",
       "    .dataframe tbody tr th {\n",
       "        vertical-align: top;\n",
       "    }\n",
       "\n",
       "    .dataframe thead th {\n",
       "        text-align: right;\n",
       "    }\n",
       "</style>\n",
       "<table border=\"1\" class=\"dataframe\">\n",
       "  <thead>\n",
       "    <tr style=\"text-align: right;\">\n",
       "      <th></th>\n",
       "      <th>population</th>\n",
       "      <th>profit</th>\n",
       "    </tr>\n",
       "  </thead>\n",
       "  <tbody>\n",
       "    <tr>\n",
       "      <th>0</th>\n",
       "      <td>6.1101</td>\n",
       "      <td>17.5920</td>\n",
       "    </tr>\n",
       "    <tr>\n",
       "      <th>1</th>\n",
       "      <td>5.5277</td>\n",
       "      <td>9.1302</td>\n",
       "    </tr>\n",
       "    <tr>\n",
       "      <th>2</th>\n",
       "      <td>8.5186</td>\n",
       "      <td>13.6620</td>\n",
       "    </tr>\n",
       "    <tr>\n",
       "      <th>3</th>\n",
       "      <td>7.0032</td>\n",
       "      <td>11.8540</td>\n",
       "    </tr>\n",
       "    <tr>\n",
       "      <th>4</th>\n",
       "      <td>5.8598</td>\n",
       "      <td>6.8233</td>\n",
       "    </tr>\n",
       "  </tbody>\n",
       "</table>\n",
       "</div>"
      ],
      "text/plain": [
       "   population   profit\n",
       "0      6.1101  17.5920\n",
       "1      5.5277   9.1302\n",
       "2      8.5186  13.6620\n",
       "3      7.0032  11.8540\n",
       "4      5.8598   6.8233"
      ]
     },
     "execution_count": 9,
     "metadata": {},
     "output_type": "execute_result"
    }
   ],
   "source": [
    "df = pd.read_csv(\"./ex1/ex1data1.txt\", names=[\"population\", \"profit\"])#读取数据并赋予列名\n",
    "df.head()"
   ]
  },
  {
   "cell_type": "code",
   "execution_count": 17,
   "metadata": {},
   "outputs": [
    {
     "data": {
      "text/plain": [
       "[<matplotlib.lines.Line2D at 0x16cfe6d8>]"
      ]
     },
     "execution_count": 17,
     "metadata": {},
     "output_type": "execute_result"
    },
    {
     "data": {
      "image/png": "[encoded data removed]",
      "text/plain": [
       "<matplotlib.figure.Figure at 0x166a6b38>"
      ]
     },
     "metadata": {},
     "output_type": "display_data"
    }
   ],
   "source": [
    "X =  np.array(df[\"population\"])\n",
    "y =  np.array(df[\"profit\"])\n",
    "plt.plot(X, y, 'rx', markersize=10)"
   ]
  },
  {
   "cell_type": "markdown",
   "metadata": {},
   "source": [
    "<b>（おすすめ1）sklearn.linear_modelの正規方程式 LinearRegressionを使う</b>"
   ]
  },
  {
   "cell_type": "code",
   "execution_count": 20,
   "metadata": {},
   "outputs": [
    {
     "name": "stdout",
     "output_type": "stream",
     "text": [
      "LinearRegression on sklearn.linear_model ...\n",
      "Intercept: -3.89578087831185\n",
      "Coefficients:  [1.19303364]\n",
      "For population = [35k, 70k], we predict a profit of \n",
      " [ 2798.36876352 44554.54631015]\n",
      "\n"
     ]
    }
   ],
   "source": [
    "# Scikit-learnの組み込み最小二乗法\n",
    "from sklearn.linear_model import LinearRegression\n",
    "print(\"LinearRegression on sklearn.linear_model ...\")\n",
    "regr = LinearRegression(normalize=False) #Trueにした場合は平均とL2ノルムでスケール調整が行われる\n",
    "regr.fit(X.reshape(-1, 1), y) #データが1変数の場合はreshapeするのが大事\n",
    "print(\"Intercept:\", regr.intercept_) #切片（定数項）\n",
    "print(\"Coefficients: \", regr.coef_) #xの係数\n",
    "predicts = regr.predict(np.array([3.5, 7]).reshape(-1, 1))\n",
    "print(\"For population = [35k, 70k], we predict a profit of \\n\", predicts * 10000)\n",
    "print()"
   ]
  },
  {
   "cell_type": "markdown",
   "metadata": {},
   "source": [
    "<b>（おすすめ2）sklearn.linear_modelのSGDRegressorを使う</b>"
   ]
  },
  {
   "cell_type": "code",
   "execution_count": 21,
   "metadata": {},
   "outputs": [
    {
     "name": "stdout",
     "output_type": "stream",
     "text": [
      "SGDRegressor on sklearn.linear_model ...\n",
      "Intercept: [-3.84811446]\n",
      "Coefficients:  [1.05704926]\n",
      "For population = [35k, 70k], we predict a profit of \n",
      " [-1484.42048023 35512.30359183]\n",
      "\n"
     ]
    }
   ],
   "source": [
    "# Scikit-learnの組み込み勾配降下法による回帰\n",
    "from sklearn.linear_model import SGDRegressor\n",
    "print(\"SGDRegressor on sklearn.linear_model ...\")\n",
    "#shuffle=Falseにすると最急降下法になるはず。max_iterはScikit-learn0.19以降\n",
    "regr = SGDRegressor(eta0=0.01, learning_rate=\"constant\", max_iter=1500, shuffle=False)\n",
    "regr.fit(X.reshape(-1, 1), y)\n",
    "print(\"Intercept:\", regr.intercept_)\n",
    "print(\"Coefficients: \", regr.coef_)\n",
    "predicts = regr.predict(np.array([3.5, 7]).reshape(-1, 1))\n",
    "print(\"For population = [35k, 70k], we predict a profit of \\n\", predicts * 10000)\n",
    "print()"
   ]
  },
  {
   "cell_type": "markdown",
   "metadata": {},
   "source": [
    "$\\large J(w_{0}, w_{1}) = \\frac{1}{2m} \\sum_{i=1}^m((w_{1}x+w_{0}) - y_{i})^{2}$"
   ]
  },
  {
   "cell_type": "code",
   "execution_count": 24,
   "metadata": {},
   "outputs": [
    {
     "name": "stdout",
     "output_type": "stream",
     "text": [
      "32.072733877455676\n"
     ]
    }
   ],
   "source": [
    "#コスト関数\n",
    "#w0,w1を決めて上、全部のコストを計算し合計する\n",
    "#J(w_{0}, w_{1}\n",
    "# コスト関数\n",
    "def compute_cost(X, y, theta):\n",
    "    return np.sum((np.dot(X, theta) - y) ** 2) / 2 / len(y)\n",
    "\n",
    "X = np.array((np.ones(len(y)), X)).T\n",
    "print(compute_cost(X,y,theta = np.zeros(2)))"
   ]
  },
  {
   "cell_type": "markdown",
   "metadata": {},
   "source": [
    "<ul>\n",
    "<li>最急降下法の数式：<br><br>\n",
    "\\(\\large w_{0} := w_{0} - \\alpha\\frac{1}{m}\\sum_{i=1}^m(\\hat y_{i} - y_{i}) \\)<br><br>\n",
    "\\(\\large w_{1} := w_{1} - \\alpha\\frac{1}{m}\\sum_{i=1}^m(\\hat y_{i} - y_{i})\\cdot x_{i} \\)\n",
    "</li>\n",
    "<hr>\n",
    "</ul>\n"
   ]
  },
  {
   "cell_type": "code",
   "execution_count": 32,
   "metadata": {},
   "outputs": [
    {
     "name": "stdout",
     "output_type": "stream",
     "text": [
      "Theta found by gradient descent: [-3.63029144  1.16636235]\n"
     ]
    }
   ],
   "source": [
    "#最急降下法\n",
    "def gradient_descent(X, y, theta, alpha, num_iters):\n",
    "    J_history = []\n",
    "    theta_out = theta\n",
    "    for i in range(num_iters):\n",
    "        theta_out -= alpha / len(y) * np.dot(X.T, np.dot(X, theta_out) - y)\n",
    "        J_history.append(compute_cost(X, y, theta_out))\n",
    "    return theta_out, J_history\n",
    "\n",
    "theta, J_history = gradient_descent(X, y, np.zeros(2), 0.01, 1500)\n",
    "print(\"Theta found by gradient descent:\", theta)"
   ]
  },
  {
   "cell_type": "code",
   "execution_count": 33,
   "metadata": {},
   "outputs": [
    {
     "data": {
      "image/png": "[encoded data removed]",
      "text/plain": [
       "<matplotlib.figure.Figure at 0x188dca90>"
      ]
     },
     "metadata": {},
     "output_type": "display_data"
    }
   ],
   "source": [
    "# 動画内のコード\n",
    "plt.plot(X[:,1:],y, 'rx', markersize=10, label='Training')\n",
    "plt.xlabel('Study Hours')\n",
    "plt.ylabel('Test Scores')\n",
    "\n",
    "plt.plot(X[:,1:], np.dot(X, theta), '-', label='Linear regression')\n",
    "plt.legend()\n",
    "plt.show()"
   ]
  },
  {
   "cell_type": "code",
   "execution_count": 37,
   "metadata": {},
   "outputs": [
    {
     "data": {
      "image/png": "[encoded data removed]",
      "text/plain": [
       "<matplotlib.figure.Figure at 0x18925c88>"
      ]
     },
     "metadata": {},
     "output_type": "display_data"
    }
   ],
   "source": [
    "# 収束グラフのプロット\n",
    "plt.plot(np.arange(len(J_history)), J_history, color=\"b\")\n",
    "plt.xlabel(\"Number of iterations\")\n",
    "plt.ylabel(\"Cost J\")\n",
    "plt.show()"
   ]
  },
  {
   "cell_type": "markdown",
   "metadata": {},
   "source": [
    "<b>重回帰分析　Linear Regression with Multiple Variables</b>\n",
    "<hr/>\n",
    "\n",
    "$\\large h_{\\theta}\\left( x \\right)={\\theta_{0}}+{\\theta_{1}}{x_{1}}+{\\theta_{2}}{x_{2}}+...+{\\theta_{n}}{x_{n}}$\n",
    "\n",
    "$\\large h_{\\theta}\\left( x \\right) = \\theta^T X$\n",
    "\n",
    "$\\theta = \\begin{bmatrix}{\\theta_{0}} \\newline {\\theta_{1}} \\newline \\vdots \\newline {\\theta_{n}}\\end{bmatrix}$\n",
    "\n",
    "$X = \\begin{bmatrix}x_0 \\newline x_1 \\newline \\vdots \\newline x_n\\end{bmatrix}$\n",
    "\n",
    "<b>目的関数 (Cost Function)</b>\n",
    "<hr/>\n",
    "$\\large J\\left( {\\theta_{0}},{\\theta_{1}}...{\\theta_{n}} \\right)=\\frac{1}{2m}\\sum\\limits_{i=1}^{m}{{{\\left( h_{\\theta} \\left({x}^{\\left( i \\right)} \\right)-{y}^{\\left( i \\right)} \\right)}^{2}}}$ \n",
    "\n",
    "<b>最急降下法　Gradient Descent for Multiple Variables</b>\n",
    "\n",
    "$\\large \\theta_j := \\theta_j - \\alpha\\frac{\\partial}{\\partial \\theta_j}J(\\theta)\n",
    "             = \\theta_j - \\alpha \\sum_{i=1}^m (h_\\theta (x^{(i)}) - y^{(i)}) x_j ^{(i)}$\n",
    "\n",
    "$\\begin{align*} & \\text{repeat until convergence:} \\; \\lbrace \\newline \\; & \\theta_0 := \\theta_0 - \\alpha \\frac{1}{m} \\sum\\limits_{i=1}^{m} (h_\\theta(x^{(i)}) - y^{(i)}) \\cdot x_0^{(i)}\\newline \\; & \\theta_1 := \\theta_1 - \\alpha \\frac{1}{m} \\sum\\limits_{i=1}^{m} (h_\\theta(x^{(i)}) - y^{(i)}) \\cdot x_1^{(i)} \\newline \\; & \\theta_2 := \\theta_2 - \\alpha \\frac{1}{m} \\sum\\limits_{i=1}^{m} (h_\\theta(x^{(i)}) - y^{(i)}) \\cdot x_2^{(i)} \\newline & \\cdots \\newline \\rbrace \\end{align*}$\n",
    "\n",
    "\n"
   ]
  },
  {
   "cell_type": "code",
   "execution_count": 45,
   "metadata": {},
   "outputs": [
    {
     "data": {
      "text/html": [
       "<div>\n",
       "<style scoped>\n",
       "    .dataframe tbody tr th:only-of-type {\n",
       "        vertical-align: middle;\n",
       "    }\n",
       "\n",
       "    .dataframe tbody tr th {\n",
       "        vertical-align: top;\n",
       "    }\n",
       "\n",
       "    .dataframe thead th {\n",
       "        text-align: right;\n",
       "    }\n",
       "</style>\n",
       "<table border=\"1\" class=\"dataframe\">\n",
       "  <thead>\n",
       "    <tr style=\"text-align: right;\">\n",
       "      <th></th>\n",
       "      <th>population</th>\n",
       "      <th>star</th>\n",
       "      <th>profit</th>\n",
       "    </tr>\n",
       "  </thead>\n",
       "  <tbody>\n",
       "    <tr>\n",
       "      <th>0</th>\n",
       "      <td>2104</td>\n",
       "      <td>3</td>\n",
       "      <td>399900</td>\n",
       "    </tr>\n",
       "    <tr>\n",
       "      <th>1</th>\n",
       "      <td>1600</td>\n",
       "      <td>3</td>\n",
       "      <td>329900</td>\n",
       "    </tr>\n",
       "    <tr>\n",
       "      <th>2</th>\n",
       "      <td>2400</td>\n",
       "      <td>3</td>\n",
       "      <td>369000</td>\n",
       "    </tr>\n",
       "    <tr>\n",
       "      <th>3</th>\n",
       "      <td>1416</td>\n",
       "      <td>2</td>\n",
       "      <td>232000</td>\n",
       "    </tr>\n",
       "    <tr>\n",
       "      <th>4</th>\n",
       "      <td>3000</td>\n",
       "      <td>4</td>\n",
       "      <td>539900</td>\n",
       "    </tr>\n",
       "  </tbody>\n",
       "</table>\n",
       "</div>"
      ],
      "text/plain": [
       "   population  star  profit\n",
       "0        2104     3  399900\n",
       "1        1600     3  329900\n",
       "2        2400     3  369000\n",
       "3        1416     2  232000\n",
       "4        3000     4  539900"
      ]
     },
     "execution_count": 45,
     "metadata": {},
     "output_type": "execute_result"
    }
   ],
   "source": [
    "df = pd.read_csv(\"./ex1/ex1data2.txt\", names=[\"population\", \"star\",\"profit\"])#读取数据并赋予列名\n",
    "df.head()"
   ]
  },
  {
   "cell_type": "code",
   "execution_count": 72,
   "metadata": {},
   "outputs": [
    {
     "name": "stdout",
     "output_type": "stream",
     "text": [
      "47\n",
      "X_data=[2104 3], y= 399900\n",
      "X_data=[1600 3], y= 329900\n",
      "X_data=[2400 3], y= 369000\n",
      "X_data=[1416 2], y= 232000\n",
      "X_data=[3000 4], y= 539900\n",
      "X_data=[1985 4], y= 299900\n",
      "X_data=[1534 3], y= 314900\n",
      "X_data=[1427 3], y= 198999\n",
      "X_data=[1380 3], y= 212000\n",
      "X_data=[1494 3], y= 242500\n"
     ]
    }
   ],
   "source": [
    "X_data =  np.array(df[[\"population\", \"star\"]])\n",
    "y =  np.array(df[[\"profit\"]])\n",
    "m = len(y)\n",
    "print(m)\n",
    "#データの確認\n",
    "for i in range(10):\n",
    "    print(\"X_data=[{:.0f} {:.0f}], y= {:.0f}\".format(int(X_data[i,0]), int(X_data[i,1]), int(y[i])))"
   ]
  },
  {
   "cell_type": "code",
   "execution_count": 73,
   "metadata": {},
   "outputs": [
    {
     "data": {
      "image/png": "[encoded data removed]",
      "text/plain": [
       "<matplotlib.figure.Figure at 0x1a42aeb8>"
      ]
     },
     "metadata": {},
     "output_type": "display_data"
    }
   ],
   "source": [
    "flg = plt.figure()\n",
    "ax = flg.gca(projection='3d')    # <- axes3dをインポートしていないとエラーになる。\n",
    "ax.set_xlabel('population')\n",
    "ax.set_ylabel('star')\n",
    "ax.set_zlabel('profit')\n",
    "scatter = ax.scatter3D(X_data.T[0], X_data.T[1], y,s=5, cmap=plt.cm.viridis)    # 色のパターン\n",
    "plt.show()"
   ]
  },
  {
   "cell_type": "markdown",
   "metadata": {},
   "source": [
    "<b>（おすすめ1）sklearn.linear_modelのLinearRegressionを使う</b>"
   ]
  },
  {
   "cell_type": "code",
   "execution_count": 91,
   "metadata": {},
   "outputs": [
    {
     "name": "stdout",
     "output_type": "stream",
     "text": [
      "LinearRegression on sklearn.linear_model ...\n",
      "Intercept: [89597.9095428]\n",
      "Coefficients:  [[  139.21067402 -8738.01911233]]\n",
      "Predicted price of a 1650 sq-ft, 3 br house  ... (using LinearRegression):\n",
      "$ [[293081.4643349]]\n",
      "\n"
     ]
    }
   ],
   "source": [
    "import numpy as np\n",
    "import matplotlib.pyplot as plt\n",
    "\n",
    "# Scikit-learnの組み込み最小二乗法\n",
    "from sklearn.linear_model import LinearRegression\n",
    "print(\"LinearRegression on sklearn.linear_model ...\")\n",
    "regr = LinearRegression(normalize=False)\n",
    "X_data =  np.array(df[[\"population\", \"star\"]])\n",
    "regr.fit(X_data, y)\n",
    "print(\"Intercept:\", regr.intercept_) #切片（定数項）\n",
    "print(\"Coefficients: \", regr.coef_) #xの係数\n",
    "print(\"Predicted price of a 1650 sq-ft, 3 br house  ... (using LinearRegression):\")\n",
    "predict = regr.predict(np.array([[1650, 3]]))\n",
    "print(\"$\", predict)\n",
    "print()"
   ]
  },
  {
   "cell_type": "markdown",
   "metadata": {},
   "source": [
    "<b>（おすすめ2）sklearn.linear_modelのSGDRegressorを使う前に</b>"
   ]
  },
  {
   "cell_type": "markdown",
   "metadata": {},
   "source": [
    "<b>スケーリング (feature scaling)</b>\n",
    "\n",
    "$\\large x_i = \\frac{x_i - mean(x)}{SD(x)}$ （$SD(x)$ は$x$の標準偏差）\n",
    "\n",
    "或いは\n",
    "\n",
    "$\\large x_i = \\frac{x_i - mean(x)}{max(x) - min(x)}$\n",
    "\n"
   ]
  },
  {
   "cell_type": "code",
   "execution_count": 92,
   "metadata": {},
   "outputs": [],
   "source": [
    "# データの標準化\n",
    "def feature_normalize(X):\n",
    "    mu = np.mean(X, axis=0)\n",
    "    sigma = np.std(X, axis=0)\n",
    "    X_norm = (X-mu)/sigma\n",
    "    return X_norm, mu, sigma"
   ]
  },
  {
   "cell_type": "markdown",
   "metadata": {},
   "source": [
    "<b>（おすすめ2）sklearn.linear_modelのSGDRegressorを使う</b>"
   ]
  },
  {
   "cell_type": "code",
   "execution_count": 93,
   "metadata": {},
   "outputs": [
    {
     "name": "stdout",
     "output_type": "stream",
     "text": [
      "SGDRegressor on sklearn.linear_model ...\n",
      "Intercept: [339319.80384871]\n",
      "Coefficients:  [106385.95873423  -7991.38807423]\n",
      "Predicted price of a 1650 sq-ft, 3 br house  ... (using SGDRegressor):\n",
      "$ [293673.79997156]\n",
      "\n"
     ]
    },
    {
     "name": "stderr",
     "output_type": "stream",
     "text": [
      "C:\\Users\\s.shin\\AppData\\Local\\Continuum\\anaconda3\\lib\\site-packages\\sklearn\\utils\\validation.py:578: DataConversionWarning: A column-vector y was passed when a 1d array was expected. Please change the shape of y to (n_samples, ), for example using ravel().\n",
      "  y = column_or_1d(y, warn=True)\n"
     ]
    }
   ],
   "source": [
    "X_data =  np.array(df[[\"population\", \"star\"]])\n",
    "X, mu, sigma = feature_normalize(X_data)\n",
    "\n",
    "# Scikit-learnの組み込み勾配降下法による回帰\n",
    "from sklearn.linear_model import SGDRegressor\n",
    "print(\"SGDRegressor on sklearn.linear_model ...\")\n",
    "regr = SGDRegressor(eta0=0.01, learning_rate=\"constant\", max_iter=400, shuffle=False)\n",
    "regr.fit(X, y)\n",
    "print(\"Intercept:\", regr.intercept_)\n",
    "print(\"Coefficients: \", regr.coef_)\n",
    "predict = regr.predict((np.array([[1650, 3]] - mu) / sigma))\n",
    "print(\"Predicted price of a 1650 sq-ft, 3 br house  ... (using SGDRegressor):\")\n",
    "print(\"$\", predict)\n",
    "print()"
   ]
  },
  {
   "cell_type": "code",
   "execution_count": 78,
   "metadata": {},
   "outputs": [],
   "source": []
  },
  {
   "cell_type": "markdown",
   "metadata": {},
   "source": [
    "最急降下法（ベクトル化）\n",
    "\n",
    "\\(\\large {\\theta} := {\\theta} - \\alpha\\frac{1}{m}X^{T}(X{\\theta} - y) \\)"
   ]
  },
  {
   "cell_type": "code",
   "execution_count": null,
   "metadata": {},
   "outputs": [],
   "source": []
  },
  {
   "cell_type": "markdown",
   "metadata": {},
   "source": [
    "<b>Normal Equation</b>\n",
    "<hr/>\n",
    "\n",
    "$\\theta ={{\\left( {X^T}X \\right)}^{-1}}{X^{T}}y$ \n",
    "\n",
    "<img src=\"./images/333df5f11086fee19c4fb81bc34d5125.png\">\n"
   ]
  },
  {
   "cell_type": "code",
   "execution_count": 105,
   "metadata": {},
   "outputs": [],
   "source": [
    "# 正規方程式\n",
    "def normal_eqn(X, y):\n",
    "    return np.dot(np.dot(np.linalg.pinv(np.dot(X.T, X)), X.T), y)"
   ]
  },
  {
   "cell_type": "code",
   "execution_count": null,
   "metadata": {},
   "outputs": [],
   "source": []
  }
 ],
 "metadata": {
  "kernelspec": {
   "display_name": "Python 3",
   "language": "python",
   "name": "python3"
  },
  "language_info": {
   "codemirror_mode": {
    "name": "ipython",
    "version": 3
   },
   "file_extension": ".py",
   "mimetype": "text/x-python",
   "name": "python",
   "nbconvert_exporter": "python",
   "pygments_lexer": "ipython3",
   "version": "3.6.3"
  },
  "latex_envs": {
   "LaTeX_envs_menu_present": true,
   "autoclose": false,
   "autocomplete": true,
   "bibliofile": "biblio.bib",
   "cite_by": "apalike",
   "current_citInitial": 1,
   "eqLabelWithNumbers": true,
   "eqNumInitial": 1,
   "hotkeys": {
    "equation": "Ctrl-E",
    "itemize": "Ctrl-I"
   },
   "labels_anchors": false,
   "latex_user_defs": false,
   "report_style_numbering": false,
   "user_envs_cfg": false
  },
  "toc": {
   "base_numbering": 1,
   "nav_menu": {},
   "number_sections": true,
   "sideBar": true,
   "skip_h1_title": false,
   "title_cell": "Table of Contents",
   "title_sidebar": "Contents",
   "toc_cell": false,
   "toc_position": {},
   "toc_section_display": true,
   "toc_window_display": false
  }
 },
 "nbformat": 4,
 "nbformat_minor": 2
}
