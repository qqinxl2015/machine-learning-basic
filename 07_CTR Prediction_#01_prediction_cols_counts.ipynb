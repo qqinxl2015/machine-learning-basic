{
 "cells": [
  {
   "cell_type": "code",
   "execution_count": 1,
   "metadata": {},
   "outputs": [
    {
     "name": "stdout",
     "output_type": "stream",
     "text": [
      "2019/05/01 23:13:17\n",
      "1.16.2\n",
      "3.0.3\n",
      "0.24.2\n",
      "0.20.3\n"
     ]
    }
   ],
   "source": [
    "import numpy as np\n",
    "import matplotlib \n",
    "import pandas as pd\n",
    "import matplotlib.pyplot as plt\n",
    "from mpl_toolkits.mplot3d import Axes3D\n",
    "from pandas import Series,DataFrame\n",
    "%matplotlib inline\n",
    "matplotlib.style.use('ggplot')\n",
    "import sklearn\n",
    "\n",
    "from datetime import datetime\n",
    "print(datetime.now().strftime(\"%Y/%m/%d %H:%M:%S\"))\n",
    "\n",
    "fig_size = plt.rcParams[\"figure.figsize\"]\n",
    "fig_size[0] = 12\n",
    "fig_size[1] = 8\n",
    "print(np.version.full_version)\n",
    "print(matplotlib.__version__)\n",
    "print(pd.__version__)\n",
    "print(sklearn.__version__)"
   ]
  },
  {
   "cell_type": "code",
   "execution_count": 25,
   "metadata": {},
   "outputs": [],
   "source": [
    "features_mask_org =  ['hour', 'C1','banner_pos', 'site_id', 'site_domain', 'site_category', \n",
    "                      'app_id','app_domain', 'app_category', \n",
    "                      'device_id','device_ip', 'device_model', 'device_type', 'device_conn_type', \n",
    "                      'C14', 'C15', 'C16', 'C17', 'C18', 'C19', 'C20', 'C21']\n",
    "\n",
    "#features_mask = features_mask + ['day_week', 'hour_day']\n",
    "\n",
    "features_unique = 'id'\n",
    "\n",
    "target_mask = 'click'\n",
    "\n",
    "## data reading\n",
    "#date_parser = lambda x: pd.datetime.strptime(x, '%y%m%d%H')\n",
    "def rawcount(filename):\n",
    "    f = open(filename, 'rb')\n",
    "    lines = 0\n",
    "    buf_size = 1024 * 1024\n",
    "    read_f = f.raw.read\n",
    "\n",
    "    buf = read_f(buf_size)\n",
    "    while buf:\n",
    "        lines += buf.count(b'\\n')\n",
    "        buf = read_f(buf_size)\n",
    "\n",
    "    return lines\n"
   ]
  },
  {
   "cell_type": "code",
   "execution_count": 14,
   "metadata": {},
   "outputs": [],
   "source": [
    "fp_train = \"./avazu-ctr-prediction/train.csv\"\n",
    "\n",
    "fp_train_col_counts = \"./avazu-ctr-prediction/col_counts\"\n",
    "\n",
    "fp_train_f = \"./avazu-ctr-prediction/train_f.csv\"\n",
    "\n",
    "fp_train_oh = \"./avazu-ctr-prediction/train_f_oh.csv\"\n"
   ]
  },
  {
   "cell_type": "code",
   "execution_count": 15,
   "metadata": {},
   "outputs": [
    {
     "name": "stdout",
     "output_type": "stream",
     "text": [
      "40428968\n"
     ]
    }
   ],
   "source": [
    "print(rawcount(fp_train))"
   ]
  },
  {
   "cell_type": "code",
   "execution_count": 16,
   "metadata": {},
   "outputs": [],
   "source": [
    "#fp_train_col_counts の作成\n",
    "\n",
    "## data reading\n",
    "df_train_ini = pd.read_csv(fp_train, nrows = 6,\n",
    "                           dtype={'id':str}, \n",
    "                           #parse_dates=['hour'],\n",
    "                           #date_parser=date_parser\n",
    "                          )\n",
    "df_train_org = pd.read_csv(fp_train, chunksize = 5000000, iterator = True,\n",
    "                           dtype={'id':str}, \n",
    "                           #parse_dates=['hour'],\n",
    "                           #date_parser=date_parser\n",
    "                          )\n"
   ]
  },
  {
   "cell_type": "code",
   "execution_count": 17,
   "metadata": {},
   "outputs": [
    {
     "data": {
      "text/html": [
       "<div>\n",
       "<style scoped>\n",
       "    .dataframe tbody tr th:only-of-type {\n",
       "        vertical-align: middle;\n",
       "    }\n",
       "\n",
       "    .dataframe tbody tr th {\n",
       "        vertical-align: top;\n",
       "    }\n",
       "\n",
       "    .dataframe thead th {\n",
       "        text-align: right;\n",
       "    }\n",
       "</style>\n",
       "<table border=\"1\" class=\"dataframe\">\n",
       "  <thead>\n",
       "    <tr style=\"text-align: right;\">\n",
       "      <th></th>\n",
       "      <th>id</th>\n",
       "      <th>click</th>\n",
       "      <th>hour</th>\n",
       "      <th>C1</th>\n",
       "      <th>banner_pos</th>\n",
       "      <th>site_id</th>\n",
       "      <th>site_domain</th>\n",
       "      <th>site_category</th>\n",
       "      <th>app_id</th>\n",
       "      <th>app_domain</th>\n",
       "      <th>...</th>\n",
       "      <th>device_type</th>\n",
       "      <th>device_conn_type</th>\n",
       "      <th>C14</th>\n",
       "      <th>C15</th>\n",
       "      <th>C16</th>\n",
       "      <th>C17</th>\n",
       "      <th>C18</th>\n",
       "      <th>C19</th>\n",
       "      <th>C20</th>\n",
       "      <th>C21</th>\n",
       "    </tr>\n",
       "  </thead>\n",
       "  <tbody>\n",
       "    <tr>\n",
       "      <th>0</th>\n",
       "      <td>1000009418151094273</td>\n",
       "      <td>0</td>\n",
       "      <td>14102100</td>\n",
       "      <td>1005</td>\n",
       "      <td>0</td>\n",
       "      <td>1fbe01fe</td>\n",
       "      <td>f3845767</td>\n",
       "      <td>28905ebd</td>\n",
       "      <td>ecad2386</td>\n",
       "      <td>7801e8d9</td>\n",
       "      <td>...</td>\n",
       "      <td>1</td>\n",
       "      <td>2</td>\n",
       "      <td>15706</td>\n",
       "      <td>320</td>\n",
       "      <td>50</td>\n",
       "      <td>1722</td>\n",
       "      <td>0</td>\n",
       "      <td>35</td>\n",
       "      <td>-1</td>\n",
       "      <td>79</td>\n",
       "    </tr>\n",
       "    <tr>\n",
       "      <th>1</th>\n",
       "      <td>10000169349117863715</td>\n",
       "      <td>0</td>\n",
       "      <td>14102100</td>\n",
       "      <td>1005</td>\n",
       "      <td>0</td>\n",
       "      <td>1fbe01fe</td>\n",
       "      <td>f3845767</td>\n",
       "      <td>28905ebd</td>\n",
       "      <td>ecad2386</td>\n",
       "      <td>7801e8d9</td>\n",
       "      <td>...</td>\n",
       "      <td>1</td>\n",
       "      <td>0</td>\n",
       "      <td>15704</td>\n",
       "      <td>320</td>\n",
       "      <td>50</td>\n",
       "      <td>1722</td>\n",
       "      <td>0</td>\n",
       "      <td>35</td>\n",
       "      <td>100084</td>\n",
       "      <td>79</td>\n",
       "    </tr>\n",
       "    <tr>\n",
       "      <th>2</th>\n",
       "      <td>10000371904215119486</td>\n",
       "      <td>0</td>\n",
       "      <td>14102100</td>\n",
       "      <td>1005</td>\n",
       "      <td>0</td>\n",
       "      <td>1fbe01fe</td>\n",
       "      <td>f3845767</td>\n",
       "      <td>28905ebd</td>\n",
       "      <td>ecad2386</td>\n",
       "      <td>7801e8d9</td>\n",
       "      <td>...</td>\n",
       "      <td>1</td>\n",
       "      <td>0</td>\n",
       "      <td>15704</td>\n",
       "      <td>320</td>\n",
       "      <td>50</td>\n",
       "      <td>1722</td>\n",
       "      <td>0</td>\n",
       "      <td>35</td>\n",
       "      <td>100084</td>\n",
       "      <td>79</td>\n",
       "    </tr>\n",
       "    <tr>\n",
       "      <th>3</th>\n",
       "      <td>10000640724480838376</td>\n",
       "      <td>0</td>\n",
       "      <td>14102100</td>\n",
       "      <td>1005</td>\n",
       "      <td>0</td>\n",
       "      <td>1fbe01fe</td>\n",
       "      <td>f3845767</td>\n",
       "      <td>28905ebd</td>\n",
       "      <td>ecad2386</td>\n",
       "      <td>7801e8d9</td>\n",
       "      <td>...</td>\n",
       "      <td>1</td>\n",
       "      <td>0</td>\n",
       "      <td>15706</td>\n",
       "      <td>320</td>\n",
       "      <td>50</td>\n",
       "      <td>1722</td>\n",
       "      <td>0</td>\n",
       "      <td>35</td>\n",
       "      <td>100084</td>\n",
       "      <td>79</td>\n",
       "    </tr>\n",
       "    <tr>\n",
       "      <th>4</th>\n",
       "      <td>10000679056417042096</td>\n",
       "      <td>0</td>\n",
       "      <td>14102100</td>\n",
       "      <td>1005</td>\n",
       "      <td>1</td>\n",
       "      <td>fe8cc448</td>\n",
       "      <td>9166c161</td>\n",
       "      <td>0569f928</td>\n",
       "      <td>ecad2386</td>\n",
       "      <td>7801e8d9</td>\n",
       "      <td>...</td>\n",
       "      <td>1</td>\n",
       "      <td>0</td>\n",
       "      <td>18993</td>\n",
       "      <td>320</td>\n",
       "      <td>50</td>\n",
       "      <td>2161</td>\n",
       "      <td>0</td>\n",
       "      <td>35</td>\n",
       "      <td>-1</td>\n",
       "      <td>157</td>\n",
       "    </tr>\n",
       "    <tr>\n",
       "      <th>5</th>\n",
       "      <td>10000720757801103869</td>\n",
       "      <td>0</td>\n",
       "      <td>14102100</td>\n",
       "      <td>1005</td>\n",
       "      <td>0</td>\n",
       "      <td>d6137915</td>\n",
       "      <td>bb1ef334</td>\n",
       "      <td>f028772b</td>\n",
       "      <td>ecad2386</td>\n",
       "      <td>7801e8d9</td>\n",
       "      <td>...</td>\n",
       "      <td>1</td>\n",
       "      <td>0</td>\n",
       "      <td>16920</td>\n",
       "      <td>320</td>\n",
       "      <td>50</td>\n",
       "      <td>1899</td>\n",
       "      <td>0</td>\n",
       "      <td>431</td>\n",
       "      <td>100077</td>\n",
       "      <td>117</td>\n",
       "    </tr>\n",
       "  </tbody>\n",
       "</table>\n",
       "<p>6 rows × 24 columns</p>\n",
       "</div>"
      ],
      "text/plain": [
       "                     id  click      hour    C1  banner_pos   site_id  \\\n",
       "0   1000009418151094273      0  14102100  1005           0  1fbe01fe   \n",
       "1  10000169349117863715      0  14102100  1005           0  1fbe01fe   \n",
       "2  10000371904215119486      0  14102100  1005           0  1fbe01fe   \n",
       "3  10000640724480838376      0  14102100  1005           0  1fbe01fe   \n",
       "4  10000679056417042096      0  14102100  1005           1  fe8cc448   \n",
       "5  10000720757801103869      0  14102100  1005           0  d6137915   \n",
       "\n",
       "  site_domain site_category    app_id app_domain  ... device_type  \\\n",
       "0    f3845767      28905ebd  ecad2386   7801e8d9  ...           1   \n",
       "1    f3845767      28905ebd  ecad2386   7801e8d9  ...           1   \n",
       "2    f3845767      28905ebd  ecad2386   7801e8d9  ...           1   \n",
       "3    f3845767      28905ebd  ecad2386   7801e8d9  ...           1   \n",
       "4    9166c161      0569f928  ecad2386   7801e8d9  ...           1   \n",
       "5    bb1ef334      f028772b  ecad2386   7801e8d9  ...           1   \n",
       "\n",
       "  device_conn_type    C14  C15  C16   C17  C18  C19     C20  C21  \n",
       "0                2  15706  320   50  1722    0   35      -1   79  \n",
       "1                0  15704  320   50  1722    0   35  100084   79  \n",
       "2                0  15704  320   50  1722    0   35  100084   79  \n",
       "3                0  15706  320   50  1722    0   35  100084   79  \n",
       "4                0  18993  320   50  2161    0   35      -1  157  \n",
       "5                0  16920  320   50  1899    0  431  100077  117  \n",
       "\n",
       "[6 rows x 24 columns]"
      ]
     },
     "execution_count": 17,
     "metadata": {},
     "output_type": "execute_result"
    }
   ],
   "source": [
    "df_train_ini"
   ]
  },
  {
   "cell_type": "code",
   "execution_count": 18,
   "metadata": {},
   "outputs": [
    {
     "name": "stdout",
     "output_type": "stream",
     "text": [
      "hour : 1\n",
      "C1 : 1\n",
      "banner_pos : 2\n",
      "site_id : 3\n",
      "site_domain : 3\n",
      "site_category : 3\n",
      "app_id : 1\n",
      "app_domain : 1\n",
      "app_category : 1\n",
      "device_id : 1\n",
      "device_ip : 6\n",
      "device_model : 5\n",
      "device_type : 1\n",
      "device_conn_type : 2\n",
      "C14 : 4\n",
      "C15 : 1\n",
      "C16 : 1\n",
      "C17 : 3\n",
      "C18 : 1\n",
      "C19 : 2\n",
      "C20 : 3\n",
      "C21 : 3\n"
     ]
    }
   ],
   "source": [
    "\n",
    "## 1.init_dict\n",
    "cols_counts = {}  # the categories count for each feature\n",
    "for col in features_mask_org:\n",
    "    cols_counts[col] = df_train_ini[col].value_counts()\n",
    "\n",
    "for k, v in cols_counts.items():\n",
    "    print(\"{} : {}\".format(k, v.size))"
   ]
  },
  {
   "cell_type": "code",
   "execution_count": 19,
   "metadata": {},
   "outputs": [
    {
     "name": "stdout",
     "output_type": "stream",
     "text": [
      "2019/05/01 23:25:17\n",
      "～5000000 : 2019/05/01 23:25:32\n",
      "～10000000 : 2019/05/01 23:25:53\n",
      "～15000000 : 2019/05/01 23:26:15\n",
      "～20000000 : 2019/05/01 23:26:37\n",
      "～25000000 : 2019/05/01 23:26:59\n",
      "～30000000 : 2019/05/01 23:27:24\n",
      "～35000000 : 2019/05/01 23:27:57\n",
      "～40000000 : 2019/05/01 23:28:24\n",
      "～40428967 : 2019/05/01 23:28:34\n",
      "2019/05/01 23:28:36\n"
     ]
    }
   ],
   "source": [
    "## 2.counting through train-set\n",
    "print(datetime.now().strftime(\"%Y/%m/%d %H:%M:%S\"))\n",
    "sum = 0\n",
    "for chunk in df_train_org:\n",
    "    sum +=  len(chunk.index)\n",
    "    print(\"～{} : {}\".format(sum, datetime.now().strftime(\"%Y/%m/%d %H:%M:%S\")))\n",
    "    for col in features_mask_org:\n",
    "        cols_counts[col] = cols_counts[col].append(chunk[col].value_counts())\n",
    "    del chunk\n",
    "print(datetime.now().strftime(\"%Y/%m/%d %H:%M:%S\"))"
   ]
  },
  {
   "cell_type": "code",
   "execution_count": 20,
   "metadata": {},
   "outputs": [
    {
     "name": "stdout",
     "output_type": "stream",
     "text": [
      "2019/05/01 23:28:36\n",
      "2019/05/01 23:29:33\n"
     ]
    }
   ],
   "source": [
    "## 3.merge the deduplicates index in counting vectors\n",
    "print(datetime.now().strftime(\"%Y/%m/%d %H:%M:%S\"))\n",
    "for col in features_mask_org:\n",
    "    cols_counts[col] = cols_counts[col].groupby(cols_counts[col].index).sum()\n",
    "    # sort the counts\n",
    "    cols_counts[col] = cols_counts[col].sort_values(ascending=False)   \n",
    "print(datetime.now().strftime(\"%Y/%m/%d %H:%M:%S\"))"
   ]
  },
  {
   "cell_type": "code",
   "execution_count": 21,
   "metadata": {},
   "outputs": [
    {
     "name": "stdout",
     "output_type": "stream",
     "text": [
      "hour : 240\n",
      "C1 : 7\n",
      "banner_pos : 7\n",
      "site_id : 4737\n",
      "site_domain : 7745\n",
      "site_category : 26\n",
      "app_id : 8552\n",
      "app_domain : 559\n",
      "app_category : 36\n",
      "device_id : 2686408\n",
      "device_ip : 6729486\n",
      "device_model : 8251\n",
      "device_type : 5\n",
      "device_conn_type : 4\n",
      "C14 : 2626\n",
      "C15 : 8\n",
      "C16 : 9\n",
      "C17 : 435\n",
      "C18 : 4\n",
      "C19 : 68\n",
      "C20 : 172\n",
      "C21 : 60\n"
     ]
    }
   ],
   "source": [
    "for k, v in cols_counts.items():\n",
    "    print(\"{} : {}\".format(k, v.size))"
   ]
  },
  {
   "cell_type": "code",
   "execution_count": 22,
   "metadata": {},
   "outputs": [
    {
     "name": "stdout",
     "output_type": "stream",
     "text": [
      "2019/05/01 23:29:33\n",
      "2019/05/01 23:29:41\n"
     ]
    }
   ],
   "source": [
    "## 4.store the value_counting\n",
    "\n",
    "import pickle  # to store temporary variable\n",
    "\n",
    "print(datetime.now().strftime(\"%Y/%m/%d %H:%M:%S\"))\n",
    "pickle.dump(cols_counts, open(fp_train_col_counts, 'wb'))\n",
    "print(datetime.now().strftime(\"%Y/%m/%d %H:%M:%S\"))"
   ]
  },
  {
   "cell_type": "code",
   "execution_count": null,
   "metadata": {},
   "outputs": [],
   "source": []
  },
  {
   "cell_type": "code",
   "execution_count": 24,
   "metadata": {},
   "outputs": [
    {
     "data": {
      "image/png": "[encoded data removed]",
      "text/plain": [
       "<Figure size 1080x720 with 22 Axes>"
      ]
     },
     "metadata": {
      "needs_background": "light"
     },
     "output_type": "display_data"
    }
   ],
   "source": [
    "## 5.show the distribution of value_counts\n",
    "fig_size = plt.rcParams[\"figure.figsize\"]\n",
    "fig_size[0] = 15\n",
    "fig_size[1] = 10\n",
    "fig = plt.figure(1)\n",
    "for i, col in enumerate(features_mask_org):\n",
    "    ax = fig.add_subplot(7, 4, i+1)\n",
    "    ax.fill_between(np.arange(len(cols_counts[col])), cols_counts[col].get_values())\n",
    "    ax.set_title(col)\n",
    "plt.show()"
   ]
  },
  {
   "cell_type": "code",
   "execution_count": null,
   "metadata": {},
   "outputs": [],
   "source": []
  },
  {
   "cell_type": "code",
   "execution_count": null,
   "metadata": {},
   "outputs": [],
   "source": []
  }
 ],
 "metadata": {
  "kernelspec": {
   "display_name": "Python 3",
   "language": "python",
   "name": "python3"
  },
  "language_info": {
   "codemirror_mode": {
    "name": "ipython",
    "version": 3
   },
   "file_extension": ".py",
   "mimetype": "text/x-python",
   "name": "python",
   "nbconvert_exporter": "python",
   "pygments_lexer": "ipython3",
   "version": "3.7.1"
  }
 },
 "nbformat": 4,
 "nbformat_minor": 2
}
